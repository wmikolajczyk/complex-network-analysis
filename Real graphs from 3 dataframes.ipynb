{
 "cells": [
  {
   "cell_type": "code",
   "execution_count": null,
   "metadata": {},
   "outputs": [
    {
     "name": "stderr",
     "output_type": "stream",
     "text": [
      "Using TensorFlow backend.\n",
      "/home/smoq/.virtualenvs/cna/lib/python3.6/importlib/_bootstrap.py:219: RuntimeWarning: compiletime version 3.5 of module 'tensorflow.python.framework.fast_tensor_util' does not match runtime version 3.6\n",
      "  return f(*args, **kwds)\n"
     ]
    }
   ],
   "source": [
    "import os\n",
    "\n",
    "import pandas as pd\n",
    "\n",
    "from graphs import load_dataset_to_graph\n",
    "from measurements import get_graph_measurements, compare_graph_measurements, print_comparison_results\n",
    "from recreate_graph import recreate_by_priority_rank_no_attributes, recreate_by_priority_rank, get_trained_model"
   ]
  },
  {
   "cell_type": "code",
   "execution_count": null,
   "metadata": {},
   "outputs": [
    {
     "name": "stdout",
     "output_type": "stream",
     "text": [
      "Processing highschool_2011\n",
      "Comparison without any attributes\n"
     ]
    },
    {
     "name": "stderr",
     "output_type": "stream",
     "text": [
      "/home/smoq/.virtualenvs/cna/lib/python3.6/site-packages/networkx/algorithms/assortativity/correlation.py:287: RuntimeWarning: divide by zero encountered in double_scalars\n",
      "  return (xy*(M-ab)).sum()/numpy.sqrt(vara*varb)\n"
     ]
    },
    {
     "name": "stdout",
     "output_type": "stream",
     "text": [
      "(KS test p-value)  degree_centrality: 0.0020122867425347545           [passed: False]\n",
      "(KS test p-value)  closeness_centrality: 0.005044986488469964         [passed: False]\n",
      "(KS test p-value)  betweenness_centrality: 7.5885154889784956e-06     [passed: False]\n",
      "(KS test p-value)  pagerank: 2.04133252963713e-06                     [passed: False]\n",
      "(abs distance)     average_shortest_path_length: 0.05791669382699949  [passed: True]\n",
      "(abs distance)     diameter: 0.25                                     [passed: False]\n",
      "(abs distance)     degree_centralization: 0.5308959298650237          [passed: False]\n",
      "(abs distance)     closeness_centralization: 0.5009555895860657       [passed: False]\n",
      "(abs distance)     betweenness_centralization: 0.05931203832421425    [passed: True]\n",
      "(abs distance)     pagerank_centralization: 0.555687180855982         [passed: False]\n",
      "(abs distance)     density: 0.004972214097689335                      [passed: True]\n",
      "(abs distance)     degree_assortativity: inf                          [passed: False]\n",
      "(abs distance)     reciprocity: 0.7953546067452836                    [passed: False]\n",
      "(abs distance)     transitivity: 0.21344223729266135                  [passed: False]\n",
      "\n",
      "Comparison with only graph attributes\n",
      "Epoch 1/4\n",
      "15876/15876 [==============================] - 0s 14us/step - loss: 0.0501 - acc: 0.7846\n",
      "Epoch 2/4\n",
      "15876/15876 [==============================] - 0s 11us/step - loss: 0.0112 - acc: 0.7846\n",
      "Epoch 3/4\n",
      "15876/15876 [==============================] - 0s 11us/step - loss: 0.0057 - acc: 0.7846\n",
      "Epoch 4/4\n",
      "15876/15876 [==============================] - 0s 12us/step - loss: 0.0039 - acc: 0.7846\n",
      "15876/15876 [==============================] - 0s 16us/step\n"
     ]
    }
   ],
   "source": [
    "prepared_datasets_path = 'prepared_datasets'\n",
    "prepared_dataframes_path = 'prepared_dataframes'\n",
    "delimiter = '\\t'\n",
    "\n",
    "prepared_dataset_names = [\n",
    "    #'primary_school', 'workplace', \n",
    "    'highschool_2011', #'highschool_2012', 'hospital', \n",
    "    #'moreno_blogs', 'moreno_sheep', 'moreno_seventh',\n",
    "    # big datasets\n",
    "    #'petster-hamster', 'email-Eu'\n",
    "]\n",
    "\n",
    "for dataset_name in prepared_dataset_names:\n",
    "    print('Processing {}'.format(dataset_name))\n",
    "    dataset_path = os.path.join(prepared_datasets_path, dataset_name)\n",
    "    dataframe_path = os.path.join(prepared_dataframes_path, dataset_name)\n",
    "    graph = load_dataset_to_graph(dataset_path, node_limit=500)\n",
    "    \n",
    "    # no attrs\n",
    "    print('Comparison without any attributes')\n",
    "    new_graph = recreate_by_priority_rank_no_attributes(graph)\n",
    "    \n",
    "    graph_measurements = get_graph_measurements(graph)\n",
    "    new_graph_measurements = get_graph_measurements(new_graph)\n",
    "    comparison = compare_graph_measurements(graph_measurements, new_graph_measurements)\n",
    "    print_comparison_results(comparison)\n",
    "    print()\n",
    "    \n",
    "    # only graph attrs\n",
    "    print('Comparison with only graph attributes')\n",
    "    graph_attrs_dataframe_path = os.path.join(dataframe_path, 'graph_attrs.csv')\n",
    "    df = pd.read_csv(graph_attrs_dataframe_path, delimiter=delimiter)\n",
    "    \n",
    "    model = get_trained_model(df, epochs=4)\n",
    "    new_graph = recreate_by_priority_rank(graph, df, model, show_graphs=True)\n",
    "    \n",
    "    graph_measurements = get_graph_measurements(graph)\n",
    "    new_graph_measurements = get_graph_measurements(new_graph)\n",
    "    comparison = compare_graph_measurements(graph_measurements, new_graph_measurements)\n",
    "    print_comparison_results(comparison)\n",
    "    print()\n",
    "    \n",
    "    # only real attrs\n",
    "    print('Comparison with only real attributes')\n",
    "    real_attrs_dataframe_path = os.path.join(dataframe_path, 'real_attrs.csv')\n",
    "    df = pd.read_csv(real_attrs_dataframe_path, delimiter=delimiter)\n",
    "    \n",
    "    model = get_trained_model(df, epochs=4)\n",
    "    new_graph = recreate_by_priority_rank(graph, df, model, show_graphs=True)\n",
    "    \n",
    "    graph_measurements = get_graph_measurements(graph)\n",
    "    new_graph_measurements = get_graph_measurements(new_graph)\n",
    "    comparison = compare_graph_measurements(graph_measurements, new_graph_measurements)\n",
    "    print_comparison_results(comparison)\n",
    "    print()\n",
    "    \n",
    "    # both graph and real attrs\n",
    "    print('Comparison with both graph and real attributes')\n",
    "    graph_real_attrs_dataframe_path = os.path.join(dataframe_path, 'graph_real_attrs.csv')\n",
    "    df = pd.read_csv(graph_real_attrs_dataframe_path, delimiter=delimiter)\n",
    "    \n",
    "    model = get_trained_model(df, epochs=4)\n",
    "    new_graph = recreate_by_priority_rank(graph, df, model, show_graphs=True)\n",
    "    \n",
    "    graph_measurements = get_graph_measurements(graph)\n",
    "    new_graph_measurements = get_graph_measurements(new_graph)\n",
    "    comparison = compare_graph_measurements(graph_measurements, new_graph_measurements)\n",
    "    print_comparison_results(comparison)\n",
    "    print()"
   ]
  }
 ],
 "metadata": {
  "kernelspec": {
   "display_name": "cna",
   "language": "python",
   "name": "cna"
  },
  "language_info": {
   "codemirror_mode": {
    "name": "ipython",
    "version": 3
   },
   "file_extension": ".py",
   "mimetype": "text/x-python",
   "name": "python",
   "nbconvert_exporter": "python",
   "pygments_lexer": "ipython3",
   "version": "3.6.3"
  }
 },
 "nbformat": 4,
 "nbformat_minor": 2
}

{
 "cells": [
  {
   "cell_type": "code",
   "execution_count": 1,
   "metadata": {},
   "outputs": [],
   "source": [
    "import os\n",
    "import gc\n",
    "\n",
    "from prepare_datasets import prepare_primary_school, prepare_workplace, prepare_highschool, prepare_hospital, \\\n",
    "    prepare_moreno_blogs, prepare_moreno_sheep, prepare_moreno_seventh, prepare_petster_hamster, prepare_email_eu\n",
    "from graphs import load_dataset_to_graph\n",
    "from graph_to_dataframe import export_training_dataframes"
   ]
  },
  {
   "cell_type": "code",
   "execution_count": 2,
   "metadata": {},
   "outputs": [
    {
     "name": "stdout",
     "output_type": "stream",
     "text": [
      "Preparing primary_school...\n",
      "Preparing workplace...\n",
      "Preparing highschool_2011...\n",
      "Preparing highschool_2012...\n",
      "Preparing hospital...\n",
      "Preparing moreno_blogs...\n",
      "Preparing moreno_sheep...\n",
      "Preparing moreno_seventh...\n",
      "Preparing petster-hamster...\n",
      "Preparing email-Eu...\n",
      "done\n"
     ]
    }
   ],
   "source": [
    "# Prepare datasets -> create weighted edge list .csv and node attributes .csv\n",
    "prepare_primary_school('primary_school', 'primaryschool.csv', 'metadata_primaryschool.txt')\n",
    "prepare_workplace('workplace', 'tij_InVS.dat', 'metadata_InVS13.txt')\n",
    "prepare_highschool('highschool_2011', 'thiers_2011.csv', 'metadata_2011.txt')\n",
    "prepare_highschool('highschool_2012', 'thiers_2012.csv', 'metadata_2012.txt')\n",
    "prepare_hospital('hospital', 'detailed_list_of_contacts_Hospital.dat')\n",
    "prepare_moreno_blogs('moreno_blogs', 'out.moreno_blogs_blogs', 'ent.moreno_blogs_blogs.blog.orientation')\n",
    "prepare_moreno_sheep('moreno_sheep', 'out.moreno_sheep_sheep', 'ent.moreno_sheep_sheep.sheep.age')\n",
    "prepare_moreno_seventh('moreno_seventh', 'out.moreno_seventh_seventh', 'ent.moreno_seventh_seventh.student.gender')\n",
    "prepare_petster_hamster('petster-hamster', 'out.petster-hamster', 'ent.petster-hamster')\n",
    "prepare_email_eu('email-Eu', 'email-Eu-core.txt', 'email-Eu-core-department-labels.txt')\n",
    "print('done')"
   ]
  },
  {
   "cell_type": "code",
   "execution_count": 3,
   "metadata": {},
   "outputs": [
    {
     "name": "stdout",
     "output_type": "stream",
     "text": [
      "Processing primary_school\n",
      "Processing workplace\n",
      "Processing highschool_2011\n",
      "Processing highschool_2012\n",
      "Processing hospital\n",
      "Processing moreno_blogs\n",
      "Cutting nodes up to 500\n",
      "Processing moreno_sheep\n",
      "Processing moreno_seventh\n",
      "Processing petster-hamster\n",
      "Cutting nodes up to 500\n",
      "Processing email-Eu\n",
      "Cutting nodes up to 500\n"
     ]
    }
   ],
   "source": [
    "# Prepare dataframes\n",
    "prepared_datasets_path = 'prepared_datasets'\n",
    "prepared_dataframes_path = 'prepared_dataframes'\n",
    "prepared_dataset_names = [\n",
    "    'primary_school', 'workplace', \n",
    "    'highschool_2011', 'highschool_2012', 'hospital', \n",
    "    'moreno_blogs', 'moreno_sheep', 'moreno_seventh',\n",
    "    # big datasets\n",
    "    'petster-hamster', 'email-Eu'\n",
    "]\n",
    "\n",
    "\n",
    "for dataset_name in prepared_dataset_names:\n",
    "    print('Processing {}'.format(dataset_name))\n",
    "    dataset_path = os.path.join(prepared_datasets_path, dataset_name)\n",
    "    df_dirpath = os.path.join(prepared_dataframes_path, dataset_name)\n",
    "    \n",
    "    graph = load_dataset_to_graph(dataset_path, node_limit=500)\n",
    "    export_training_dataframes(graph, dataset_path, df_dirpath)\n",
    "    gc.collect()\n",
    "    "
   ]
  }
 ],
 "metadata": {
  "kernelspec": {
   "display_name": "cna",
   "language": "python",
   "name": "cna"
  },
  "language_info": {
   "codemirror_mode": {
    "name": "ipython",
    "version": 3
   },
   "file_extension": ".py",
   "mimetype": "text/x-python",
   "name": "python",
   "nbconvert_exporter": "python",
   "pygments_lexer": "ipython3",
   "version": "3.6.3"
  }
 },
 "nbformat": 4,
 "nbformat_minor": 2
}

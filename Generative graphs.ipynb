{
 "cells": [
  {
   "cell_type": "code",
   "execution_count": 1,
   "metadata": {},
   "outputs": [
    {
     "name": "stderr",
     "output_type": "stream",
     "text": [
      "Using TensorFlow backend.\n",
      "/home/smoq/.virtualenvs/cna/lib/python3.6/importlib/_bootstrap.py:219: RuntimeWarning: compiletime version 3.5 of module 'tensorflow.python.framework.fast_tensor_util' does not match runtime version 3.6\n",
      "  return f(*args, **kwds)\n"
     ]
    }
   ],
   "source": [
    "# Generative graphs\n",
    "import networkx as nx\n",
    "\n",
    "from collections import defaultdict\n",
    "\n",
    "from graph import generate_graph, attach_graph_attributes, get_graph_measurements, compare_graph_measurements, print_comparison_results\n",
    "from recreate_graph import graph_to_dataframe, get_trained_model, recreate_by_priority_rank"
   ]
  },
  {
   "cell_type": "code",
   "execution_count": 2,
   "metadata": {},
   "outputs": [],
   "source": [
    "graph_families = [\n",
    "    {\n",
    "        'name': 'erdos renyi',\n",
    "        'func': nx.erdos_renyi_graph,\n",
    "        'params': [\n",
    "            {'n': 30, 'p': 0.05},\n",
    "            {'n': 30, 'p': 0.1},\n",
    "            {'n': 30, 'p': 0.3}\n",
    "        ]\n",
    "    },\n",
    "    {\n",
    "        'name': 'watts strogatz',\n",
    "        'func': nx.watts_strogatz_graph,\n",
    "        'params': [\n",
    "            {'n': 30, 'k': 2, 'p': 0.05},\n",
    "            {'n': 30, 'k': 2, 'p': 0.1},\n",
    "            {'n': 30, 'k': 2, 'p': 0.3}\n",
    "        ]\n",
    "    },\n",
    "    {\n",
    "        'name': 'barabasi albert',\n",
    "        'func': nx.barabasi_albert_graph,\n",
    "        'params': [\n",
    "            {'n': 30, 'm': 1},\n",
    "            {'n': 30, 'm': 2},\n",
    "            {'n': 30, 'm': 5}\n",
    "        ]\n",
    "    },\n",
    "]"
   ]
  },
  {
   "cell_type": "code",
   "execution_count": 3,
   "metadata": {},
   "outputs": [],
   "source": [
    "EPOCHS = 256\n",
    "BATCH_SIZE = 16\n",
    "VERBOSE = 0"
   ]
  },
  {
   "cell_type": "code",
   "execution_count": 4,
   "metadata": {},
   "outputs": [
    {
     "name": "stdout",
     "output_type": "stream",
     "text": [
      "Cannot compute average_shortest_path_length - Graph is not connected.\n",
      "Cannot compute diameter - Found infinite path length because the graph is not connected\n",
      "Cannot compute average_shortest_path_length - Graph is not weakly connected.\n",
      "Cannot compute diameter - Found infinite path length because the digraph is not strongly connected\n"
     ]
    },
    {
     "name": "stderr",
     "output_type": "stream",
     "text": [
      "/home/smoq/.virtualenvs/cna/lib/python3.6/site-packages/networkx/algorithms/assortativity/correlation.py:287: RuntimeWarning: invalid value encountered in double_scalars\n",
      "  return (xy*(M-ab)).sum()/numpy.sqrt(vara*varb)\n"
     ]
    },
    {
     "name": "stdout",
     "output_type": "stream",
     "text": [
      "Cannot compute diameter - Found infinite path length because the digraph is not strongly connected\n"
     ]
    },
    {
     "name": "stderr",
     "output_type": "stream",
     "text": [
      "/home/smoq/.virtualenvs/cna/lib/python3.6/site-packages/networkx/algorithms/assortativity/correlation.py:287: RuntimeWarning: invalid value encountered in sqrt\n",
      "  return (xy*(M-ab)).sum()/numpy.sqrt(vara*varb)\n"
     ]
    },
    {
     "name": "stdout",
     "output_type": "stream",
     "text": [
      "Cannot compute diameter - Found infinite path length because the digraph is not strongly connected\n",
      "Cannot compute diameter - Found infinite path length because the digraph is not strongly connected\n",
      "Cannot compute diameter - Found infinite path length because the digraph is not strongly connected\n",
      "Cannot compute average_shortest_path_length - Graph is not weakly connected.\n",
      "Cannot compute diameter - Found infinite path length because the digraph is not strongly connected\n",
      "Cannot compute average_shortest_path_length - Graph is not weakly connected.\n",
      "Cannot compute diameter - Found infinite path length because the digraph is not strongly connected\n",
      "Cannot compute diameter - Found infinite path length because the digraph is not strongly connected\n",
      "Cannot compute diameter - Found infinite path length because the digraph is not strongly connected\n"
     ]
    },
    {
     "name": "stderr",
     "output_type": "stream",
     "text": [
      "/home/smoq/.virtualenvs/cna/lib/python3.6/site-packages/networkx/algorithms/assortativity/correlation.py:287: RuntimeWarning: divide by zero encountered in double_scalars\n",
      "  return (xy*(M-ab)).sum()/numpy.sqrt(vara*varb)\n"
     ]
    }
   ],
   "source": [
    "results = defaultdict(list)\n",
    "for graph_family in graph_families:\n",
    "    for params in graph_family['params']:\n",
    "        graph = generate_graph(graph_family['func'], params)\n",
    "        attach_graph_attributes(graph)\n",
    "\n",
    "        df = graph_to_dataframe(graph)\n",
    "        model = get_trained_model(df, epochs=EPOCHS, batch_size=BATCH_SIZE, verbose=VERBOSE)\n",
    "\n",
    "        new_graph = recreate_by_priority_rank(graph, df, model)\n",
    "\n",
    "        graph_measurements = get_graph_measurements(graph)\n",
    "        new_graph_measurements = get_graph_measurements(new_graph)\n",
    "\n",
    "        comparison = compare_graph_measurements(graph_measurements, new_graph_measurements)\n",
    "        results[graph_family['name']].append(comparison)"
   ]
  },
  {
   "cell_type": "code",
   "execution_count": 5,
   "metadata": {},
   "outputs": [
    {
     "name": "stdout",
     "output_type": "stream",
     "text": [
      "erdos renyi\n",
      "graph #1\n",
      "(KS test p-value)  degree_centrality: 0.999999671760919               [passed: True]\n",
      "(KS test p-value)  closeness_centrality: 1.755167824443094e-05        [passed: False]\n",
      "(KS test p-value)  betweenness_centrality: 0.054993022248225276       [passed: True]\n",
      "(KS test p-value)  pagerank: 4.643598890573804e-06                    [passed: False]\n",
      "(abs distance)     average_shortest_path_length: None                 [passed: None]\n",
      "(abs distance)     diameter: None                                     [passed: None]\n",
      "(abs distance)     degree_centralization: 0.3975155279503104          [passed: False]\n",
      "(abs distance)     closeness_centralization: 1.0698617192064932       [passed: False]\n",
      "(abs distance)     betweenness_centralization: 0.07269355586462675    [passed: True]\n",
      "(abs distance)     pagerank_centralization: 0.42948124292630846       [passed: False]\n",
      "(abs distance)     density: 0.4827586206896552                        [passed: False]\n",
      "(abs distance)     degree_assortativity: nan                          [passed: False]\n",
      "(abs distance)     reciprocity: None                                  [passed: None]\n",
      "(abs distance)     transitivity: None                                 [passed: None]\n",
      "\n",
      "graph #2\n",
      "(KS test p-value)  degree_centrality: 0.936008585104148               [passed: True]\n",
      "(KS test p-value)  closeness_centrality: 1.1433428523298056e-06       [passed: False]\n",
      "(KS test p-value)  betweenness_centrality: 0.054993022248225325       [passed: True]\n",
      "(KS test p-value)  pagerank: 0.00020211742020648208                   [passed: False]\n",
      "(abs distance)     average_shortest_path_length: 0.49556451612903224  [passed: False]\n",
      "(abs distance)     diameter: None                                     [passed: None]\n",
      "(abs distance)     degree_centralization: 0.5116279069767442          [passed: False]\n",
      "(abs distance)     closeness_centralization: 0.4214112599714203       [passed: False]\n",
      "(abs distance)     betweenness_centralization: 0.010418378891942172   [passed: True]\n",
      "(abs distance)     pagerank_centralization: 0.46977708125287965       [passed: False]\n",
      "(abs distance)     density: 0.3617021276595745                        [passed: False]\n",
      "(abs distance)     degree_assortativity: nan                          [passed: False]\n",
      "(abs distance)     reciprocity: None                                  [passed: None]\n",
      "(abs distance)     transitivity: 1.5948275862068968                   [passed: False]\n",
      "\n",
      "graph #3\n",
      "(KS test p-value)  degree_centrality: 0.34203417981555007             [passed: True]\n",
      "(KS test p-value)  closeness_centrality: 1.1088076730719878e-08       [passed: False]\n",
      "(KS test p-value)  betweenness_centrality: 0.10883839498780411        [passed: True]\n",
      "(KS test p-value)  pagerank: 0.0017459498829507842                    [passed: False]\n",
      "(abs distance)     average_shortest_path_length: 0.06436314363143633  [passed: True]\n",
      "(abs distance)     diameter: None                                     [passed: None]\n",
      "(abs distance)     degree_centralization: 0.5882352941176473          [passed: False]\n",
      "(abs distance)     closeness_centralization: 0.26220790483797474      [passed: False]\n",
      "(abs distance)     betweenness_centralization: 0.09109099268883225    [passed: True]\n",
      "(abs distance)     pagerank_centralization: 0.5943785366333377        [passed: False]\n",
      "(abs distance)     density: 0.47183098591549294                       [passed: False]\n",
      "(abs distance)     degree_assortativity: nan                          [passed: False]\n",
      "(abs distance)     reciprocity: None                                  [passed: None]\n",
      "(abs distance)     transitivity: 0.17352515956133854                  [passed: False]\n",
      "\n",
      "watts strogatz\n",
      "graph #1\n",
      "(KS test p-value)  degree_centrality: 0.0017459498829507842           [passed: False]\n",
      "(KS test p-value)  closeness_centrality: 5.5869816252578936e-08       [passed: False]\n",
      "(KS test p-value)  betweenness_centrality: 8.383579081682083e-12      [passed: False]\n",
      "(KS test p-value)  pagerank: 1.1088076730719878e-08                   [passed: False]\n",
      "(abs distance)     average_shortest_path_length: 0.8736473583704647   [passed: False]\n",
      "(abs distance)     diameter: None                                     [passed: None]\n",
      "(abs distance)     degree_centralization: 0.7142857142857146          [passed: False]\n",
      "(abs distance)     closeness_centralization: 0.8239726265240805       [passed: False]\n",
      "(abs distance)     betweenness_centralization: 0.4541117036205441     [passed: False]\n",
      "(abs distance)     pagerank_centralization: 0.6260289531568662        [passed: False]\n",
      "(abs distance)     density: 0.5                                       [passed: False]\n",
      "(abs distance)     degree_assortativity: nan                          [passed: False]\n",
      "(abs distance)     reciprocity: None                                  [passed: None]\n",
      "(abs distance)     transitivity: None                                 [passed: None]\n",
      "\n",
      "graph #2\n",
      "(KS test p-value)  degree_centrality: 0.011313647722167194            [passed: False]\n",
      "(KS test p-value)  closeness_centrality: 5.5869816252578936e-08       [passed: False]\n",
      "(KS test p-value)  betweenness_centrality: 3.520232751049543e-10      [passed: False]\n",
      "(KS test p-value)  pagerank: 1.1088076730719878e-08                   [passed: False]\n",
      "(abs distance)     average_shortest_path_length: 0.9312152991980259   [passed: False]\n",
      "(abs distance)     diameter: None                                     [passed: None]\n",
      "(abs distance)     degree_centralization: 0.7142857142857141          [passed: False]\n",
      "(abs distance)     closeness_centralization: 0.7231502663907607       [passed: False]\n",
      "(abs distance)     betweenness_centralization: 0.4256393199527415     [passed: False]\n",
      "(abs distance)     pagerank_centralization: 0.704612653485636         [passed: False]\n",
      "(abs distance)     density: 0.5                                       [passed: False]\n",
      "(abs distance)     degree_assortativity: nan                          [passed: False]\n",
      "(abs distance)     reciprocity: None                                  [passed: None]\n",
      "(abs distance)     transitivity: None                                 [passed: None]\n",
      "\n",
      "graph #3\n",
      "(KS test p-value)  degree_centrality: 0.10883839498780425             [passed: True]\n",
      "(KS test p-value)  closeness_centrality: 1.1088076730719878e-08       [passed: False]\n",
      "(KS test p-value)  betweenness_centrality: 1.1088076730719916e-08     [passed: False]\n",
      "(KS test p-value)  pagerank: 1.1433428523298096e-06                   [passed: False]\n",
      "(abs distance)     average_shortest_path_length: None                 [passed: None]\n",
      "(abs distance)     diameter: None                                     [passed: None]\n",
      "(abs distance)     degree_centralization: 0.7142857142857141          [passed: False]\n",
      "(abs distance)     closeness_centralization: 0.64311591397955         [passed: False]\n",
      "(abs distance)     betweenness_centralization: 0.4137601528905879     [passed: False]\n",
      "(abs distance)     pagerank_centralization: 0.7151215196001276        [passed: False]\n",
      "(abs distance)     density: 0.5                                       [passed: False]\n",
      "(abs distance)     degree_assortativity: nan                          [passed: False]\n",
      "(abs distance)     reciprocity: None                                  [passed: None]\n",
      "(abs distance)     transitivity: None                                 [passed: None]\n",
      "\n",
      "barabasi albert\n",
      "graph #1\n",
      "(KS test p-value)  degree_centrality: 0.9969692373049783              [passed: True]\n",
      "(KS test p-value)  closeness_centrality: 1.161547854882822e-12        [passed: False]\n",
      "(KS test p-value)  betweenness_centrality: 0.025856269697631676       [passed: False]\n",
      "(KS test p-value)  pagerank: 2.619895662433618e-07                    [passed: False]\n",
      "(abs distance)     average_shortest_path_length: None                 [passed: None]\n",
      "(abs distance)     diameter: None                                     [passed: None]\n",
      "(abs distance)     degree_centralization: 0.04368358913813521         [passed: True]\n",
      "(abs distance)     closeness_centralization: 0.20067538155884487      [passed: False]\n",
      "(abs distance)     betweenness_centralization: 0.023510531594784792   [passed: True]\n",
      "(abs distance)     pagerank_centralization: 0.04020882866146074       [passed: True]\n",
      "(abs distance)     density: 0.4827586206896552                        [passed: False]\n",
      "(abs distance)     degree_assortativity: nan                          [passed: False]\n",
      "(abs distance)     reciprocity: None                                  [passed: None]\n",
      "(abs distance)     transitivity: None                                 [passed: None]\n",
      "\n",
      "graph #2\n",
      "(KS test p-value)  degree_centrality: 0.34203417981555007             [passed: True]\n",
      "(KS test p-value)  closeness_centrality: 5.6312856281883635e-11       [passed: False]\n",
      "(KS test p-value)  betweenness_centrality: 0.5371995394073502         [passed: True]\n",
      "(KS test p-value)  pagerank: 1.755167824443103e-05                    [passed: False]\n",
      "(abs distance)     average_shortest_path_length: 0.4802566633761105   [passed: False]\n",
      "(abs distance)     diameter: None                                     [passed: None]\n",
      "(abs distance)     degree_centralization: 0.028776978417266307        [passed: True]\n",
      "(abs distance)     closeness_centralization: 0.11339547686194382      [passed: False]\n",
      "(abs distance)     betweenness_centralization: 0.017727519398539848   [passed: True]\n",
      "(abs distance)     pagerank_centralization: 0.06797175166286624       [passed: True]\n",
      "(abs distance)     density: 0.4642857142857143                        [passed: False]\n",
      "(abs distance)     degree_assortativity: nan                          [passed: False]\n",
      "(abs distance)     reciprocity: None                                  [passed: None]\n",
      "(abs distance)     transitivity: 0.1947278911564627                   [passed: False]\n",
      "\n",
      "graph #3\n",
      "(KS test p-value)  degree_centrality: 0.7600465102607563              [passed: True]\n",
      "(KS test p-value)  closeness_centrality: 2.0479574760940833e-09       [passed: False]\n",
      "(KS test p-value)  betweenness_centrality: 0.20032515093915465        [passed: True]\n",
      "(KS test p-value)  pagerank: 6.174024256235908e-05                    [passed: False]\n",
      "(abs distance)     average_shortest_path_length: 0.25195312499999994  [passed: False]\n",
      "(abs distance)     diameter: None                                     [passed: None]\n",
      "(abs distance)     degree_centralization: 0.3940217391304347          [passed: False]\n",
      "(abs distance)     closeness_centralization: 0.09246595443767926      [passed: True]\n",
      "(abs distance)     betweenness_centralization: 0.15617264052165522    [passed: False]\n",
      "(abs distance)     pagerank_centralization: 0.3546421991875992        [passed: False]\n",
      "(abs distance)     density: 0.52                                      [passed: False]\n",
      "(abs distance)     degree_assortativity: inf                          [passed: False]\n",
      "(abs distance)     reciprocity: None                                  [passed: None]\n",
      "(abs distance)     transitivity: 0.022767356100689425                 [passed: True]\n",
      "\n"
     ]
    }
   ],
   "source": [
    "for key, value in results.items():\n",
    "    print(key)\n",
    "    for i, comparison_result in enumerate(value):\n",
    "        print('graph #{}'.format(i+1))\n",
    "        print_comparison_results(comparison_result)\n",
    "        print()"
   ]
  }
 ],
 "metadata": {
  "kernelspec": {
   "display_name": "cna",
   "language": "python",
   "name": "cna"
  },
  "language_info": {
   "codemirror_mode": {
    "name": "ipython",
    "version": 3
   },
   "file_extension": ".py",
   "mimetype": "text/x-python",
   "name": "python",
   "nbconvert_exporter": "python",
   "pygments_lexer": "ipython3",
   "version": "3.6.3"
  }
 },
 "nbformat": 4,
 "nbformat_minor": 2
}

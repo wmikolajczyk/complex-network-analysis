{
 "cells": [
  {
   "cell_type": "code",
   "execution_count": 1,
   "metadata": {},
   "outputs": [
    {
     "name": "stderr",
     "output_type": "stream",
     "text": [
      "Using TensorFlow backend.\n",
      "/home/smoq/.virtualenvs/cna/lib/python3.6/importlib/_bootstrap.py:219: RuntimeWarning: compiletime version 3.5 of module 'tensorflow.python.framework.fast_tensor_util' does not match runtime version 3.6\n",
      "  return f(*args, **kwds)\n"
     ]
    }
   ],
   "source": [
    "# Generative graphs\n",
    "import networkx as nx\n",
    "\n",
    "from collections import defaultdict\n",
    "\n",
    "from graph import generate_graph, attach_graph_attributes, get_graph_measurements, compare_graph_measurements, print_comparison_results\n",
    "from recreate_graph import graph_to_dataframe, get_trained_model, recreate_by_priority_rank"
   ]
  },
  {
   "cell_type": "code",
   "execution_count": 2,
   "metadata": {},
   "outputs": [],
   "source": [
    "graph_families = [\n",
    "    {\n",
    "        'name': 'erdos renyi',\n",
    "        'func': nx.erdos_renyi_graph,\n",
    "        'params': [\n",
    "            {'n': 30, 'p': 0.05},\n",
    "            {'n': 30, 'p': 0.1},\n",
    "            {'n': 30, 'p': 0.3}\n",
    "        ]\n",
    "    },\n",
    "    {\n",
    "        'name': 'watts strogatz',\n",
    "        'func': nx.watts_strogatz_graph,\n",
    "        'params': [\n",
    "            {'n': 30, 'k': 2, 'p': 0.05},\n",
    "            {'n': 30, 'k': 2, 'p': 0.1},\n",
    "            {'n': 30, 'k': 2, 'p': 0.3}\n",
    "        ]\n",
    "    },\n",
    "    {\n",
    "        'name': 'barabasi albert',\n",
    "        'func': nx.barabasi_albert_graph,\n",
    "        'params': [\n",
    "            {'n': 30, 'm': 1},\n",
    "            {'n': 30, 'm': 2},\n",
    "            {'n': 30, 'm': 5}\n",
    "        ]\n",
    "    },\n",
    "]"
   ]
  },
  {
   "cell_type": "code",
   "execution_count": 3,
   "metadata": {},
   "outputs": [],
   "source": [
    "EPOCHS = 256\n",
    "BATCH_SIZE = 16\n",
    "VERBOSE = 0"
   ]
  },
  {
   "cell_type": "code",
   "execution_count": 4,
   "metadata": {},
   "outputs": [
    {
     "name": "stdout",
     "output_type": "stream",
     "text": [
      "Cannot compute average_shortest_path_length - Graph is not connected.\n",
      "Cannot compute diameter - Found infinite path length because the graph is not connected\n",
      "Cannot compute average_shortest_path_length - Graph is not connected.\n",
      "Cannot compute diameter - Found infinite path length because the graph is not connected\n",
      "Cannot compute average_shortest_path_length - Graph is not connected.\n",
      "Cannot compute diameter - Found infinite path length because the graph is not connected\n",
      "Cannot compute average_shortest_path_length - Graph is not connected.\n",
      "Cannot compute diameter - Found infinite path length because the graph is not connected\n",
      "Cannot compute average_shortest_path_length - Graph is not connected.\n",
      "Cannot compute diameter - Found infinite path length because the graph is not connected\n"
     ]
    }
   ],
   "source": [
    "results = defaultdict(list)\n",
    "for graph_family in graph_families:\n",
    "    for params in graph_family['params']:\n",
    "        graph = generate_graph(graph_family['func'], params)\n",
    "        attach_graph_attributes(graph)\n",
    "\n",
    "        df = graph_to_dataframe(graph)\n",
    "        model = get_trained_model(df, epochs=EPOCHS, batch_size=BATCH_SIZE, verbose=VERBOSE)\n",
    "\n",
    "        new_graph = recreate_by_priority_rank(graph, df, model)\n",
    "\n",
    "        graph_measurements = get_graph_measurements(graph)\n",
    "        new_graph_measurements = get_graph_measurements(new_graph)\n",
    "\n",
    "        comparison = compare_graph_measurements(graph_measurements, new_graph_measurements)\n",
    "        results[graph_family['name']].append(comparison)"
   ]
  },
  {
   "cell_type": "code",
   "execution_count": 5,
   "metadata": {},
   "outputs": [
    {
     "name": "stdout",
     "output_type": "stream",
     "text": [
      "erdos renyi\n",
      "graph #1\n",
      "(KS test p-value)  degree_centrality: 0.999999671760919               [passed: True]\n",
      "(KS test p-value)  closeness_centrality: 1.1433428523298056e-06       [passed: False]\n",
      "(KS test p-value)  betweenness_centrality: 0.20032515093915465        [passed: True]\n",
      "(KS test p-value)  pagerank: 0.34203417981555007                      [passed: True]\n",
      "(abs distance)     average_shortest_path_length: None                 [passed: None]\n",
      "(abs distance)     diameter: None                                     [passed: None]\n",
      "(abs distance)     degree_centralization: 0.32608695652173914         [passed: False]\n",
      "(abs distance)     density: 0.0                                       [passed: True]\n",
      "\n",
      "graph #2\n",
      "(KS test p-value)  degree_centrality: 0.7600465102607566              [passed: True]\n",
      "(KS test p-value)  closeness_centrality: 6.174024256235908e-05        [passed: False]\n",
      "(KS test p-value)  betweenness_centrality: 0.10883839498780411        [passed: True]\n",
      "(KS test p-value)  pagerank: 0.054993022248225325                     [passed: True]\n",
      "(abs distance)     average_shortest_path_length: 0.1580645161290323   [passed: False]\n",
      "(abs distance)     diameter: 0.16666666666666666                      [passed: False]\n",
      "(abs distance)     degree_centralization: 0.4847942754919501          [passed: False]\n",
      "(abs distance)     density: 0.25531914893617036                       [passed: False]\n",
      "\n",
      "graph #3\n",
      "(KS test p-value)  degree_centrality: 0.10883839498780425             [passed: True]\n",
      "(KS test p-value)  closeness_centrality: 0.2003251509391548           [passed: True]\n",
      "(KS test p-value)  betweenness_centrality: 0.0017459498829507872      [passed: False]\n",
      "(KS test p-value)  pagerank: 0.10883839498780425                      [passed: True]\n",
      "(abs distance)     average_shortest_path_length: 0.0013550135501354604 [passed: True]\n",
      "(abs distance)     diameter: 0.0                                      [passed: True]\n",
      "(abs distance)     degree_centralization: 0.6062834224598931          [passed: False]\n",
      "(abs distance)     density: 0.02816901408450704                       [passed: True]\n",
      "\n",
      "watts strogatz\n",
      "graph #1\n",
      "(KS test p-value)  degree_centrality: 0.000615779027922126            [passed: False]\n",
      "(KS test p-value)  closeness_centrality: 4.643598890573804e-06        [passed: False]\n",
      "(KS test p-value)  betweenness_centrality: 2.619895662433604e-07      [passed: False]\n",
      "(KS test p-value)  pagerank: 0.000615779027922126                     [passed: False]\n",
      "(abs distance)     average_shortest_path_length: None                 [passed: None]\n",
      "(abs distance)     diameter: None                                     [passed: None]\n",
      "(abs distance)     degree_centralization: 0.7111111111111111          [passed: False]\n",
      "(abs distance)     density: 0.06666666666666667                       [passed: False]\n",
      "\n",
      "graph #2\n",
      "(KS test p-value)  degree_centrality: 0.054993022248225276            [passed: True]\n",
      "(KS test p-value)  closeness_centrality: 0.34203417981555023          [passed: True]\n",
      "(KS test p-value)  betweenness_centrality: 3.520232751049543e-10      [passed: False]\n",
      "(KS test p-value)  pagerank: 0.025856269697631676                     [passed: False]\n",
      "(abs distance)     average_shortest_path_length: None                 [passed: None]\n",
      "(abs distance)     diameter: None                                     [passed: None]\n",
      "(abs distance)     degree_centralization: 0.6666666666666666          [passed: False]\n",
      "(abs distance)     density: 0.0                                       [passed: True]\n",
      "\n",
      "graph #3\n",
      "(KS test p-value)  degree_centrality: 0.054993022248225325            [passed: True]\n",
      "(KS test p-value)  closeness_centrality: 0.000615779027922126         [passed: False]\n",
      "(KS test p-value)  betweenness_centrality: 1.1433428523298056e-06     [passed: False]\n",
      "(KS test p-value)  pagerank: 0.0017459498829507842                    [passed: False]\n",
      "(abs distance)     average_shortest_path_length: None                 [passed: None]\n",
      "(abs distance)     diameter: None                                     [passed: None]\n",
      "(abs distance)     degree_centralization: 0.7142857142857143          [passed: False]\n",
      "(abs distance)     density: 0.0                                       [passed: True]\n",
      "\n",
      "barabasi albert\n",
      "graph #1\n",
      "(KS test p-value)  degree_centrality: 0.9969692373049783              [passed: True]\n",
      "(KS test p-value)  closeness_centrality: 0.000615779027922126         [passed: False]\n",
      "(KS test p-value)  betweenness_centrality: 0.9969692373049784         [passed: True]\n",
      "(KS test p-value)  pagerank: 0.5371995394073502                       [passed: True]\n",
      "(abs distance)     average_shortest_path_length: 0.20138408304498262  [passed: False]\n",
      "(abs distance)     diameter: 0.5                                      [passed: False]\n",
      "(abs distance)     degree_centralization: 0.04368358913813457         [passed: True]\n",
      "(abs distance)     density: 0.034482758620689655                      [passed: True]\n",
      "\n",
      "graph #2\n",
      "(KS test p-value)  degree_centrality: 0.7600465102607563              [passed: True]\n",
      "(KS test p-value)  closeness_centrality: 0.7600465102607563           [passed: True]\n",
      "(KS test p-value)  betweenness_centrality: 0.9360085851041476         [passed: True]\n",
      "(KS test p-value)  pagerank: 0.7600465102607563                       [passed: True]\n",
      "(abs distance)     average_shortest_path_length: 0.011846001974333687 [passed: True]\n",
      "(abs distance)     diameter: 0.0                                      [passed: True]\n",
      "(abs distance)     degree_centralization: 0.02312435765673175         [passed: True]\n",
      "(abs distance)     density: 0.05357142857142868                       [passed: False]\n",
      "\n",
      "graph #3\n",
      "(KS test p-value)  degree_centrality: 0.20032515093915465             [passed: True]\n",
      "(KS test p-value)  closeness_centrality: 0.10883839498780411          [passed: True]\n",
      "(KS test p-value)  betweenness_centrality: 0.7600465102607563         [passed: True]\n",
      "(KS test p-value)  pagerank: 0.3420341798155498                       [passed: True]\n",
      "(abs distance)     average_shortest_path_length: 0.02343750000000005  [passed: True]\n",
      "(abs distance)     diameter: 0.0                                      [passed: True]\n",
      "(abs distance)     degree_centralization: 0.36323529411764693         [passed: False]\n",
      "(abs distance)     density: 0.128                                     [passed: False]\n",
      "\n"
     ]
    }
   ],
   "source": [
    "for key, value in results.items():\n",
    "    print(key)\n",
    "    for i, comparison_result in enumerate(value):\n",
    "        print('graph #{}'.format(i+1))\n",
    "        print_comparison_results(comparison_result)\n",
    "        print()"
   ]
  }
 ],
 "metadata": {
  "kernelspec": {
   "display_name": "cna",
   "language": "python",
   "name": "cna"
  },
  "language_info": {
   "codemirror_mode": {
    "name": "ipython",
    "version": 3
   },
   "file_extension": ".py",
   "mimetype": "text/x-python",
   "name": "python",
   "nbconvert_exporter": "python",
   "pygments_lexer": "ipython3",
   "version": "3.6.3"
  }
 },
 "nbformat": 4,
 "nbformat_minor": 2
}

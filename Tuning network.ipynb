{
 "cells": [
  {
   "cell_type": "code",
   "execution_count": 1,
   "metadata": {},
   "outputs": [
    {
     "name": "stderr",
     "output_type": "stream",
     "text": [
      "Using TensorFlow backend.\n",
      "/home/smoq/.virtualenvs/cna/lib/python3.6/importlib/_bootstrap.py:219: RuntimeWarning: compiletime version 3.5 of module 'tensorflow.python.framework.fast_tensor_util' does not match runtime version 3.6\n",
      "  return f(*args, **kwds)\n"
     ]
    }
   ],
   "source": [
    "import os\n",
    "import random\n",
    "import pandas as pd\n",
    "import matplotlib.pyplot as plt\n",
    "\n",
    "from graph import attach_graph_attributes, get_graph_measurements,\\\n",
    "    compare_graph_measurements, print_comparison_results\n",
    "from real_graphs import load_dataset_to_graph, attach_real_attributes\n",
    "from recreate_graph import get_trained_model, graph_to_training_dataframe, preprocess_dataframe, recreate_by_priority_rank\n",
    "from training_dataframes import prepare_dataframes"
   ]
  },
  {
   "cell_type": "code",
   "execution_count": 2,
   "metadata": {},
   "outputs": [],
   "source": [
    "dataset_name = 'primary_school' #'petster-hamster'\n",
    "\n",
    "delimiter = '\\t'\n",
    "dataset_path = os.path.join('prepared_datasets', dataset_name)\n",
    "df_dirpath = os.path.join('prepared_training_dfs', dataset_name)"
   ]
  },
  {
   "cell_type": "code",
   "execution_count": 3,
   "metadata": {},
   "outputs": [],
   "source": [
    "# load graph\n",
    "graph = load_dataset_to_graph(dataset_path)\n",
    "# remove nodes if more than max_nodes\n",
    "max_nodes = 250\n",
    "overlimit_nodes = graph.number_of_nodes() - max_nodes\n",
    "if overlimit_nodes > 0:\n",
    "    print('Cutting nodes up to {}'.format(max_nodes))\n",
    "    random.seed(93)\n",
    "    nodes_to_remove = random.sample(graph.nodes(), overlimit_nodes)\n",
    "    graph.remove_nodes_from(nodes_to_remove)\n",
    "# create dataframes (graph_attrs, real_attrs, graph + real attrs)\n",
    "if not os.path.exists(df_dirpath):\n",
    "    print('Creating dataframes')\n",
    "    os.mkdir(df_dirpath)\n",
    "    prepare_dataframes(df_dirpath, graph, dataset_path, delimiter)    \n",
    "    print('Done')"
   ]
  },
  {
   "cell_type": "code",
   "execution_count": 4,
   "metadata": {},
   "outputs": [
    {
     "name": "stdout",
     "output_type": "stream",
     "text": [
      "Epoch 1/8\n",
      "58564/58564 [==============================] - 1s 13us/step - loss: 0.0327 - acc: 0.7064\n",
      "Epoch 2/8\n",
      "58564/58564 [==============================] - 1s 13us/step - loss: 0.0024 - acc: 0.7160\n",
      "Epoch 3/8\n",
      "58564/58564 [==============================] - 1s 12us/step - loss: 0.0015 - acc: 0.7160\n",
      "Epoch 4/8\n",
      "58564/58564 [==============================] - 1s 13us/step - loss: 0.0012 - acc: 0.7160\n",
      "Epoch 5/8\n",
      "58564/58564 [==============================] - 1s 13us/step - loss: 0.0011 - acc: 0.7160\n",
      "Epoch 6/8\n",
      "58564/58564 [==============================] - 1s 12us/step - loss: 9.9230e-04 - acc: 0.7160\n",
      "Epoch 7/8\n",
      "58564/58564 [==============================] - 1s 13us/step - loss: 9.4363e-04 - acc: 0.7160\n",
      "Epoch 8/8\n",
      "58564/58564 [==============================] - 1s 12us/step - loss: 9.1020e-04 - acc: 0.7160\n",
      "58564/58564 [==============================] - 1s 15us/step\n",
      "loss: 0.0008968102157459998, accuracy: 0.7159688545864353\n"
     ]
    }
   ],
   "source": [
    "df_path = 'graph_real_attrs.csv'\n",
    "path = os.path.join(df_dirpath, df_path)\n",
    "\n",
    "df = pd.read_csv(path, delimiter=delimiter)\n",
    "X_test = df.drop(['num_of_edges'], axis=1)\n",
    "y_test = df['num_of_edges']\n",
    "\n",
    "model = get_trained_model(df, epochs=8, batch_size=64)\n",
    "\n",
    "y_pred = model.predict(X_test)"
   ]
  },
  {
   "cell_type": "code",
   "execution_count": 5,
   "metadata": {},
   "outputs": [
    {
     "data": {
      "image/png": "[encoded data removed]",
      "text/plain": [
       "<matplotlib.figure.Figure at 0x7feae2c0d780>"
      ]
     },
     "metadata": {},
     "output_type": "display_data"
    }
   ],
   "source": [
    "plt.plot(y_test[:100])\n",
    "plt.show()\n",
    "# TODO - NICE PLOT y_test vs y_pred"
   ]
  },
  {
   "cell_type": "code",
   "execution_count": 6,
   "metadata": {},
   "outputs": [
    {
     "name": "stdout",
     "output_type": "stream",
     "text": [
      "58564/58564 [==============================] - 1s 14us/step\n",
      "loss: 0.0008328255428704863, accuracy: 0.7159688545864353\n"
     ]
    },
    {
     "name": "stderr",
     "output_type": "stream",
     "text": [
      "/home/smoq/.virtualenvs/cna/lib/python3.6/site-packages/networkx/algorithms/assortativity/correlation.py:287: RuntimeWarning: divide by zero encountered in double_scalars\n",
      "  return (xy*(M-ab)).sum()/numpy.sqrt(vara*varb)\n"
     ]
    },
    {
     "name": "stdout",
     "output_type": "stream",
     "text": [
      "(KS test p-value)  degree_centrality: 5.103231450967362e-05           [passed: False]\n",
      "(KS test p-value)  closeness_centrality: 3.4620957144498103e-06       [passed: False]\n",
      "(KS test p-value)  betweenness_centrality: 0.0044463791286659055      [passed: False]\n",
      "(KS test p-value)  pagerank: 1.1311169085800448e-08                   [passed: False]\n",
      "(abs distance)     average_shortest_path_length: 0.010055423594615932 [passed: True]\n",
      "(abs distance)     diameter: 0.0                                      [passed: True]\n",
      "(abs distance)     degree_centralization: 0.3253767253387354          [passed: False]\n",
      "(abs distance)     closeness_centralization: 0.6725384378452663       [passed: False]\n",
      "(abs distance)     betweenness_centralization: 0.013769688404092265   [passed: True]\n",
      "(abs distance)     pagerank_centralization: 0.36074772245096376       [passed: False]\n",
      "(abs distance)     density: 0.003847541180714175                      [passed: True]\n",
      "(abs distance)     degree_assortativity: inf                          [passed: False]\n",
      "(abs distance)     reciprocity: 0.7174511917594921                    [passed: False]\n",
      "(abs distance)     transitivity: 0.018765599203164462                 [passed: True]\n",
      "58564/58564 [==============================] - 1s 15us/step\n",
      "loss: 0.0008038801780898382, accuracy: 0.7159688545864353\n",
      "(KS test p-value)  degree_centrality: 3.328745578590721e-05           [passed: False]\n",
      "(KS test p-value)  closeness_centrality: 2.152986921733511e-05        [passed: False]\n",
      "(KS test p-value)  betweenness_centrality: 0.006106635880679013       [passed: False]\n",
      "(KS test p-value)  pagerank: 5.964254049054309e-08                    [passed: False]\n",
      "(abs distance)     average_shortest_path_length: 0.01011480601741878  [passed: True]\n",
      "(abs distance)     diameter: 0.0                                      [passed: True]\n",
      "(abs distance)     degree_centralization: 0.3312153893270112          [passed: False]\n",
      "(abs distance)     closeness_centralization: 0.6737572953045269       [passed: False]\n",
      "(abs distance)     betweenness_centralization: 0.03200537779047327    [passed: True]\n",
      "(abs distance)     pagerank_centralization: 0.3608499814762312        [passed: False]\n",
      "(abs distance)     density: 0.003847541180714175                      [passed: True]\n",
      "(abs distance)     degree_assortativity: inf                          [passed: False]\n",
      "(abs distance)     reciprocity: 0.71733141693616                      [passed: False]\n",
      "(abs distance)     transitivity: 0.0291332098573736                   [passed: True]\n",
      "58564/58564 [==============================] - 1s 16us/step\n",
      "loss: 0.000812233767084523, accuracy: 0.7159688545864353\n",
      "(KS test p-value)  degree_centrality: 0.00011693673091194728          [passed: False]\n",
      "(KS test p-value)  closeness_centrality: 2.1464813558369265e-06       [passed: False]\n",
      "(KS test p-value)  betweenness_centrality: 0.0083161631405387         [passed: False]\n",
      "(KS test p-value)  pagerank: 1.9878697496884333e-09                   [passed: False]\n",
      "(abs distance)     average_shortest_path_length: 0.01011480601741878  [passed: True]\n",
      "(abs distance)     diameter: 0.0                                      [passed: True]\n",
      "(abs distance)     degree_centralization: 0.3195890540490462          [passed: False]\n",
      "(abs distance)     closeness_centralization: 0.6621031653520492       [passed: False]\n",
      "(abs distance)     betweenness_centralization: 0.006748017338509532   [passed: True]\n",
      "(abs distance)     pagerank_centralization: 0.3578268215759723        [passed: False]\n",
      "(abs distance)     density: 0.003847541180714175                      [passed: True]\n",
      "(abs distance)     degree_assortativity: inf                          [passed: False]\n",
      "(abs distance)     reciprocity: 0.7169720924661636                    [passed: False]\n",
      "(abs distance)     transitivity: 0.022512824941761645                 [passed: True]\n"
     ]
    }
   ],
   "source": [
    "for df_path in ['graph_attrs.csv', 'real_attrs.csv', 'graph_real_attrs.csv']:\n",
    "    path = os.path.join(df_dirpath, df_path)\n",
    "    df = pd.read_csv(path, delimiter=delimiter)\n",
    "\n",
    "    model = get_trained_model(df, epochs=16, batch_size=64, verbose=0)\n",
    "    recreated_graph = recreate_by_priority_rank(graph, df, model)\n",
    "    \n",
    "    graph_measurements = get_graph_measurements(graph)\n",
    "    recreated_graph_measurements = get_graph_measurements(recreated_graph)\n",
    "    \n",
    "    comparison = compare_graph_measurements(graph_measurements, recreated_graph_measurements)\n",
    "    print_comparison_results(comparison)"
   ]
  }
 ],
 "metadata": {
  "kernelspec": {
   "display_name": "cna",
   "language": "python",
   "name": "cna"
  },
  "language_info": {
   "codemirror_mode": {
    "name": "ipython",
    "version": 3
   },
   "file_extension": ".py",
   "mimetype": "text/x-python",
   "name": "python",
   "nbconvert_exporter": "python",
   "pygments_lexer": "ipython3",
   "version": "3.6.3"
  }
 },
 "nbformat": 4,
 "nbformat_minor": 2
}

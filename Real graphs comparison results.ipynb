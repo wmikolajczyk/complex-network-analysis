{
 "cells": [
  {
   "cell_type": "code",
   "execution_count": 1,
   "metadata": {},
   "outputs": [],
   "source": [
    "import os\n",
    "\n",
    "import pandas as pd\n",
    "\n",
    "from measurements import get_measurements_results_df"
   ]
  },
  {
   "cell_type": "code",
   "execution_count": 2,
   "metadata": {},
   "outputs": [],
   "source": [
    "dataset_names = [\n",
    "    'primary_school', 'workplace', \n",
    "    'highschool_2011', 'highschool_2012', 'hospital', \n",
    "    'moreno_blogs', 'moreno_sheep', 'moreno_seventh',\n",
    "    # big datasets\n",
    "    'petster-hamster', 'email-Eu'\n",
    "]\n",
    "\n",
    "comparison_dir = 'results'\n",
    "delimiter = '\\t'"
   ]
  },
  {
   "cell_type": "code",
   "execution_count": 3,
   "metadata": {},
   "outputs": [
    {
     "name": "stdout",
     "output_type": "stream",
     "text": [
      "*** *** *** primary_school\n",
      "*** *** *** workplace\n"
     ]
    },
    {
     "name": "stderr",
     "output_type": "stream",
     "text": [
      "/home/smoq/.virtualenvs/cna/lib/python3.6/site-packages/scipy/stats/_distn_infrastructure.py:1910: RuntimeWarning: invalid value encountered in multiply\n",
      "  lower_bound = self.a * scale + loc\n",
      "/home/smoq/.virtualenvs/cna/lib/python3.6/site-packages/scipy/stats/_distn_infrastructure.py:1911: RuntimeWarning: invalid value encountered in multiply\n",
      "  upper_bound = self.b * scale + loc\n"
     ]
    },
    {
     "name": "stdout",
     "output_type": "stream",
     "text": [
      "*** *** *** highschool_2011\n",
      "*** *** *** highschool_2012\n",
      "*** *** *** hospital\n",
      "*** *** *** moreno_blogs\n",
      "*** *** *** moreno_sheep\n",
      "*** *** *** moreno_seventh\n",
      "*** *** *** petster-hamster\n",
      "*** *** *** email-Eu\n"
     ]
    }
   ],
   "source": [
    "for dataset_name in dataset_names:\n",
    "    print('*** *** *** {}'.format(dataset_name))\n",
    "    results_dir = os.path.join(comparison_dir, dataset_name)\n",
    "    \n",
    "    orig_df_path = os.path.join(results_dir, 'original.csv')\n",
    "    orig_df = pd.read_csv(orig_df_path, sep=delimiter)\n",
    "\n",
    "    for analysis_name in ['random_rankings', 'graph_attrs', 'real_attrs', 'graph_real_attrs', 'real_y']:\n",
    "        df_path = os.path.join(results_dir, analysis_name + '.csv')\n",
    "        measurements_results_path = os.path.join(results_dir, analysis_name + '_means' + '.csv')\n",
    "        \n",
    "        df = pd.read_csv(df_path, sep=delimiter)\n",
    "        measurements_results_df = get_measurements_results_df(df, orig_df)\n",
    "        # save means of recreated graph, compared to the original graph\n",
    "        measurements_results_df.to_csv(measurements_results_path, index=False, sep=delimiter) "
   ]
  }
 ],
 "metadata": {
  "kernelspec": {
   "display_name": "cna",
   "language": "python",
   "name": "cna"
  },
  "language_info": {
   "codemirror_mode": {
    "name": "ipython",
    "version": 3
   },
   "file_extension": ".py",
   "mimetype": "text/x-python",
   "name": "python",
   "nbconvert_exporter": "python",
   "pygments_lexer": "ipython3",
   "version": "3.6.3"
  }
 },
 "nbformat": 4,
 "nbformat_minor": 2
}

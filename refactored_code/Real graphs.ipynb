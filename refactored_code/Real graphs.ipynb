{
 "cells": [
  {
   "cell_type": "code",
   "execution_count": 1,
   "metadata": {},
   "outputs": [
    {
     "name": "stderr",
     "output_type": "stream",
     "text": [
      "Using TensorFlow backend.\n",
      "/home/smoq/.virtualenvs/cna/lib/python3.6/importlib/_bootstrap.py:219: RuntimeWarning: compiletime version 3.5 of module 'tensorflow.python.framework.fast_tensor_util' does not match runtime version 3.6\n",
      "  return f(*args, **kwds)\n"
     ]
    }
   ],
   "source": [
    "from graph import attach_graph_attributes, get_graph_measurements, compare_graph_measurements, print_comparison_results\n",
    "\n",
    "from recreate_graph import graph_to_dataframe, get_trained_model, recreate_by_priority_rank\n",
    "\n",
    "from real_graph import get_available_datasets, download_dataset, extract_dataset, load_graph, attach_real_attributes"
   ]
  },
  {
   "cell_type": "code",
   "execution_count": 2,
   "metadata": {},
   "outputs": [],
   "source": [
    "available_datasets = get_available_datasets()"
   ]
  },
  {
   "cell_type": "code",
   "execution_count": null,
   "metadata": {},
   "outputs": [],
   "source": [
    "EPOCHS = 256\n",
    "BATCH_SIZE = 16\n",
    "VERBOSE = 0"
   ]
  },
  {
   "cell_type": "code",
   "execution_count": null,
   "metadata": {
    "scrolled": true
   },
   "outputs": [
    {
     "name": "stdout",
     "output_type": "stream",
     "text": [
      "Skipping download moreno_seventh - already exists\n",
      "Skipping extracting moreno_seventh - already exists\n"
     ]
    }
   ],
   "source": [
    "dataset_name = 'moreno_seventh'\n",
    "\n",
    "archive_filepath = download_dataset(dataset_name, available_datasets)\n",
    "if archive_filepath:\n",
    "    network_filepath = extract_dataset(dataset_name, archive_filepath)\n",
    "    graph = load_graph(network_filepath)\n",
    "    attach_graph_attributes(graph)\n",
    "    \n",
    "    df = graph_to_dataframe(graph)\n",
    "    model = get_trained_model(df, epochs=EPOCHS, batch_size=BATCH_SIZE, verbose=VERBOSE)\n",
    "    \n",
    "    new_graph = recreate_by_priority_rank(graph, df, model)\n",
    "    \n",
    "    graph_measurements = get_graph_measurements(graph)\n",
    "    new_graph_measurements = get_graph_measurements(new_graph)\n",
    "    \n",
    "    comparison = compare_graph_measurements(graph_measurements, new_graph_measurements)"
   ]
  },
  {
   "cell_type": "code",
   "execution_count": null,
   "metadata": {},
   "outputs": [],
   "source": [
    "attach_real_attributes(graph, network_filepath)\n",
    "df = graph_to_dataframe(graph)\n",
    "model = get_trained_model(df, epochs=EPOCHS, batch_size=BATCH_SIZE, verbose=VERBOSE)\n",
    "\n",
    "new_graph = recreate_by_priority_rank(graph, df, model)\n",
    "\n",
    "graph_measurements = get_graph_measurements(graph)\n",
    "new_graph_measurements = get_graph_measurements(new_graph)\n",
    "\n",
    "comparison_with_real_attributes = compare_graph_measurements(graph_measurements, new_graph_measurements)"
   ]
  },
  {
   "cell_type": "code",
   "execution_count": null,
   "metadata": {},
   "outputs": [],
   "source": [
    "print_comparison_results(comparison)\n",
    "print('\\nWith real attributes\\n')\n",
    "print_comparison_results(comparison_with_real_attributes)"
   ]
  }
 ],
 "metadata": {
  "kernelspec": {
   "display_name": "cna",
   "language": "python",
   "name": "cna"
  },
  "language_info": {
   "codemirror_mode": {
    "name": "ipython",
    "version": 3
   },
   "file_extension": ".py",
   "mimetype": "text/x-python",
   "name": "python",
   "nbconvert_exporter": "python",
   "pygments_lexer": "ipython3",
   "version": "3.6.3"
  }
 },
 "nbformat": 4,
 "nbformat_minor": 2
}

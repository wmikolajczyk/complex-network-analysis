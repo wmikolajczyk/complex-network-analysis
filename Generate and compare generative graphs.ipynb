{
 "cells": [
  {
   "cell_type": "code",
   "execution_count": 1,
   "metadata": {},
   "outputs": [
    {
     "name": "stderr",
     "output_type": "stream",
     "text": [
      "Using TensorFlow backend.\n",
      "/home/smoq/.virtualenvs/cna/lib/python3.6/importlib/_bootstrap.py:219: RuntimeWarning: compiletime version 3.5 of module 'tensorflow.python.framework.fast_tensor_util' does not match runtime version 3.6\n",
      "  return f(*args, **kwds)\n"
     ]
    }
   ],
   "source": [
    "import networkx as nx\n",
    "\n",
    "from compare_graphs import average_comparison\n",
    "from analyse_graph_family import analyse_graph_family"
   ]
  },
  {
   "cell_type": "code",
   "execution_count": 2,
   "metadata": {},
   "outputs": [
    {
     "name": "stdout",
     "output_type": "stream",
     "text": [
      "Cannot compute average_shortest_path_length - Graph is not connected.\n",
      "Cannot compute diameter - Found infinite path length because the graph is not connected\n",
      "Cannot compute average_shortest_path_length - Graph is not connected.\n",
      "Cannot compute diameter - Found infinite path length because the graph is not connected\n",
      "Cannot compute average_shortest_path_length - Graph is not connected.\n",
      "Cannot compute diameter - Found infinite path length because the graph is not connected\n",
      "Cannot compute average_shortest_path_length - Graph is not connected.\n",
      "Cannot compute diameter - Found infinite path length because the graph is not connected\n",
      "Cannot compute average_shortest_path_length - Graph is not connected.\n",
      "Cannot compute diameter - Found infinite path length because the graph is not connected\n"
     ]
    }
   ],
   "source": [
    "erdos_renyi_params_list = [\n",
    "    {'n': 30, 'p': 0.05},\n",
    "    {'n': 30, 'p': 0.1},\n",
    "    {'n': 30, 'p': 0.3}\n",
    "]\n",
    "watts_strogatz_params_list = [\n",
    "    {'n': 30, 'k': 2, 'p': 0.05},\n",
    "    {'n': 30, 'k': 2, 'p': 0.1},\n",
    "    {'n': 30, 'k': 2, 'p': 0.3}\n",
    "]\n",
    "barabasi_albert_params_list = [\n",
    "    {'n': 30, 'm': 1},\n",
    "    {'n': 30, 'm': 2},\n",
    "    {'n': 30, 'm': 5}\n",
    "]\n",
    "\n",
    "erdos_renyi_analysis = analyse_graph_family(erdos_renyi_params_list, nx.erdos_renyi_graph)\n",
    "watts_strogatz_analysis = analyse_graph_family(watts_strogatz_params_list, nx.watts_strogatz_graph)\n",
    "barabasi_albert_analysis = analyse_graph_family(barabasi_albert_params_list, nx.barabasi_albert_graph)"
   ]
  },
  {
   "cell_type": "code",
   "execution_count": 3,
   "metadata": {},
   "outputs": [
    {
     "data": {
      "text/plain": [
       "{'average_shortest_path_length': 0.23448275862068968,\n",
       " 'betweenness_centrality': 0.26350328179704735,\n",
       " 'closeness_centrality': 0.018918841269806846,\n",
       " 'degree_centrality': 0.58368270587104309,\n",
       " 'degree_centralization': 8.42962962962963,\n",
       " 'density': 0.012260536398467433,\n",
       " 'diameter': 1.0,\n",
       " 'pagerank': 0.12138552272506138}"
      ]
     },
     "execution_count": 3,
     "metadata": {},
     "output_type": "execute_result"
    }
   ],
   "source": [
    "average_comparison([x['comparison'] for x in erdos_renyi_analysis])"
   ]
  },
  {
   "cell_type": "code",
   "execution_count": 4,
   "metadata": {},
   "outputs": [
    {
     "data": {
      "text/plain": [
       "{'average_shortest_path_length': 3.5034482758620684,\n",
       " 'betweenness_centrality': 0.00022585838010024588,\n",
       " 'closeness_centrality': 0.00058198331309387103,\n",
       " 'degree_centrality': 0.0017615282344127785,\n",
       " 'degree_centralization': 12.037037037037038,\n",
       " 'density': 0.0015325670498084292,\n",
       " 'diameter': 11.0,\n",
       " 'pagerank': 0.0015768486392928535}"
      ]
     },
     "execution_count": 4,
     "metadata": {},
     "output_type": "execute_result"
    }
   ],
   "source": [
    "average_comparison([x['comparison'] for x in watts_strogatz_analysis])"
   ]
  },
  {
   "cell_type": "code",
   "execution_count": 5,
   "metadata": {},
   "outputs": [
    {
     "data": {
      "text/plain": [
       "{'average_shortest_path_length': 0.06321839080459757,\n",
       " 'betweenness_centrality': 0.67013588797294943,\n",
       " 'closeness_centrality': 0.28962984961581711,\n",
       " 'degree_centrality': 0.75934758830656612,\n",
       " 'degree_centralization': 2.384347678465325,\n",
       " 'density': 0.015325670498084296,\n",
       " 'diameter': 0.0,\n",
       " 'pagerank': 0.68576418664295435}"
      ]
     },
     "execution_count": 5,
     "metadata": {},
     "output_type": "execute_result"
    }
   ],
   "source": [
    "average_comparison([x['comparison'] for x in barabasi_albert_analysis])"
   ]
  }
 ],
 "metadata": {
  "kernelspec": {
   "display_name": "cna",
   "language": "python",
   "name": "cna"
  },
  "language_info": {
   "codemirror_mode": {
    "name": "ipython",
    "version": 3
   },
   "file_extension": ".py",
   "mimetype": "text/x-python",
   "name": "python",
   "nbconvert_exporter": "python",
   "pygments_lexer": "ipython3",
   "version": "3.6.3"
  }
 },
 "nbformat": 4,
 "nbformat_minor": 2
}

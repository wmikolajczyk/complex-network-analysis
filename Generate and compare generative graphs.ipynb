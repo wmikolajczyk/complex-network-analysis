{
 "cells": [
  {
   "cell_type": "code",
   "execution_count": 3,
   "metadata": {},
   "outputs": [],
   "source": [
    "import networkx as nx\n",
    "import matplotlib.pyplot as plt\n",
    "\n",
    "from compare_graphs import compare\n",
    "from generate_graph_nn import attach_attributes, get_trained_model, generate_graph_by_nn\n",
    "from test_generative_graphs import generate_graph, recreate_graph, print_comparsion_result"
   ]
  },
  {
   "cell_type": "code",
   "execution_count": 5,
   "metadata": {},
   "outputs": [
    {
     "name": "stdout",
     "output_type": "stream",
     "text": [
      "{'n': 30, 'p': 0.05}\n",
      "Cannot compute average_shortest_path_length - Graph is not connected.\n",
      "Cannot compute diameter - Found infinite path length because the graph is not connected\n",
      "{'n': 30, 'p': 0.1}\n",
      "{'n': 30, 'p': 0.3}\n"
     ]
    }
   ],
   "source": [
    "erdos_renyi_params_list = [\n",
    "    {'n': 30, 'p': 0.05},\n",
    "    {'n': 30, 'p': 0.1},\n",
    "    {'n': 30, 'p': 0.3}\n",
    "]\n",
    "\n",
    "comparsion_list = []\n",
    "for params in erdos_renyi_params_list:\n",
    "    graph = generate_graph(nx.erdos_renyi_graph, params)\n",
    "    new_graph = recreate_graph(graph)\n",
    "    comparsion_list.append(compare(graph, new_graph))"
   ]
  },
  {
   "cell_type": "code",
   "execution_count": 6,
   "metadata": {},
   "outputs": [
    {
     "name": "stdout",
     "output_type": "stream",
     "text": [
      "Cannot compute average_shortest_path_length - Graph is not connected.\n",
      "Cannot compute diameter - Found infinite path length because the graph is not connected\n",
      "Cannot compute average_shortest_path_length - Graph is not connected.\n",
      "Cannot compute diameter - Found infinite path length because the graph is not connected\n"
     ]
    }
   ],
   "source": [
    "watts_strogatz_params_list = [\n",
    "    {'n': 30, 'k': 2, 'p': 0.05},\n",
    "    {'n': 30, 'k': 2, 'p': 0.1},\n",
    "    {'n': 30, 'k': 2, 'p': 0.3}\n",
    "]\n",
    "\n",
    "comparsion_list = []\n",
    "for params in watts_strogatz_params_list:\n",
    "    graph = generate_graph(nx.watts_strogatz_graph, params)\n",
    "    new_graph = recreate_graph(graph)\n",
    "    comparsion_list.append(compare(graph, new_graph))"
   ]
  },
  {
   "cell_type": "code",
   "execution_count": 7,
   "metadata": {},
   "outputs": [
    {
     "name": "stdout",
     "output_type": "stream",
     "text": [
      "Cannot compute average_shortest_path_length - Graph is not connected.\n",
      "Cannot compute diameter - Found infinite path length because the graph is not connected\n"
     ]
    }
   ],
   "source": [
    "barabasi_albert_params_list = [\n",
    "    {'n': 30, 'm': 1},\n",
    "    {'n': 30, 'm': 2},\n",
    "    {'n': 30, 'm': 5}\n",
    "]\n",
    "\n",
    "comparsion_list = []\n",
    "for params in barabasi_albert_params_list:\n",
    "    graph = generate_graph(nx.barabasi_albert_graph, params)\n",
    "    new_graph = recreate_graph(graph)\n",
    "    comparsion_list.append(compare(graph, new_graph))"
   ]
  }
 ],
 "metadata": {
  "kernelspec": {
   "display_name": "cna",
   "language": "python",
   "name": "cna"
  },
  "language_info": {
   "codemirror_mode": {
    "name": "ipython",
    "version": 3
   },
   "file_extension": ".py",
   "mimetype": "text/x-python",
   "name": "python",
   "nbconvert_exporter": "python",
   "pygments_lexer": "ipython3",
   "version": "3.5.2"
  }
 },
 "nbformat": 4,
 "nbformat_minor": 2
}

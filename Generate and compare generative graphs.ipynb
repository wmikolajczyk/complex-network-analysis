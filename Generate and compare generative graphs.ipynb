{
 "cells": [
  {
   "cell_type": "code",
   "execution_count": 1,
   "metadata": {},
   "outputs": [
    {
     "name": "stderr",
     "output_type": "stream",
     "text": [
      "Using TensorFlow backend.\n"
     ]
    }
   ],
   "source": [
    "import networkx as nx\n",
    "import matplotlib.pyplot as plt\n",
    "\n",
    "from compare_graphs import compare, average_comparison\n",
    "from generate_graph_nn import attach_attributes, get_trained_model, generate_graph_by_nn\n",
    "from test_generative_graphs import generate_graph, recreate_graph"
   ]
  },
  {
   "cell_type": "code",
   "execution_count": 2,
   "metadata": {},
   "outputs": [
    {
     "name": "stdout",
     "output_type": "stream",
     "text": [
      "Cannot compute average_shortest_path_length - Graph is not connected.\n",
      "Cannot compute diameter - Found infinite path length because the graph is not connected\n"
     ]
    },
    {
     "data": {
      "text/plain": [
       "{'average_shortest_path_length_delta': 0.20000000000000007,\n",
       " 'betweenness_centrality_delta': 0.3203291467426112,\n",
       " 'closeness_centrality_delta': 0.039350841951103978,\n",
       " 'degree_centrality_delta': 0.66028518839869987,\n",
       " 'degree_centralization_delta': 8.61058201058201,\n",
       " 'density_delta': 0.009195402298850594,\n",
       " 'diameter_delta': 0.5,\n",
       " 'pagerank_delta': 0.1518811080421783}"
      ]
     },
     "execution_count": 2,
     "metadata": {},
     "output_type": "execute_result"
    }
   ],
   "source": [
    "erdos_renyi_params_list = [\n",
    "    {'n': 30, 'p': 0.05},\n",
    "    {'n': 30, 'p': 0.1},\n",
    "    {'n': 30, 'p': 0.3}\n",
    "]\n",
    "\n",
    "comparison_list = []\n",
    "\n",
    "for params in erdos_renyi_params_list:\n",
    "    graph = generate_graph(nx.erdos_renyi_graph, params)\n",
    "    new_graph = recreate_graph(graph)\n",
    "    comparison_list.append(compare(graph, new_graph))\n",
    "    \n",
    "average_comparison(comparison_list)"
   ]
  },
  {
   "cell_type": "code",
   "execution_count": 3,
   "metadata": {},
   "outputs": [
    {
     "name": "stdout",
     "output_type": "stream",
     "text": [
      "Cannot compute average_shortest_path_length - Graph is not connected.\n",
      "Cannot compute diameter - Found infinite path length because the graph is not connected\n",
      "Cannot compute average_shortest_path_length - Graph is not connected.\n",
      "Cannot compute diameter - Found infinite path length because the graph is not connected\n"
     ]
    },
    {
     "data": {
      "text/plain": [
       "{'average_shortest_path_length_delta': 3.6666666666666665,\n",
       " 'betweenness_centrality_delta': 0.00020565941353023614,\n",
       " 'closeness_centrality_delta': 0.001535688496742746,\n",
       " 'degree_centrality_delta': 0.0039970556642172335,\n",
       " 'degree_centralization_delta': 12.066666666666668,\n",
       " 'density_delta': 0.0007662835249042146,\n",
       " 'diameter_delta': 11.0,\n",
       " 'pagerank_delta': 0.00029321223023032238}"
      ]
     },
     "execution_count": 3,
     "metadata": {},
     "output_type": "execute_result"
    }
   ],
   "source": [
    "watts_strogatz_params_list = [\n",
    "    {'n': 30, 'k': 2, 'p': 0.05},\n",
    "    {'n': 30, 'k': 2, 'p': 0.1},\n",
    "    {'n': 30, 'k': 2, 'p': 0.3}\n",
    "]\n",
    "\n",
    "comparison_list = []\n",
    "\n",
    "for params in watts_strogatz_params_list:\n",
    "    graph = generate_graph(nx.watts_strogatz_graph, params)\n",
    "    new_graph = recreate_graph(graph)\n",
    "    comparison_list.append(compare(graph, new_graph))\n",
    "    \n",
    "average_comparison(comparison_list)"
   ]
  },
  {
   "cell_type": "code",
   "execution_count": 4,
   "metadata": {},
   "outputs": [
    {
     "data": {
      "text/plain": [
       "{'average_shortest_path_length_delta': 0.1340996168582377,\n",
       " 'betweenness_centrality_delta': 0.84472281615774936,\n",
       " 'closeness_centrality_delta': 0.43537759441064572,\n",
       " 'degree_centrality_delta': 0.75934747889353915,\n",
       " 'degree_centralization_delta': 2.3908836261777444,\n",
       " 'density_delta': 0.010727969348658994,\n",
       " 'diameter_delta': 0.6666666666666666,\n",
       " 'pagerank_delta': 0.62070906677902082}"
      ]
     },
     "execution_count": 4,
     "metadata": {},
     "output_type": "execute_result"
    }
   ],
   "source": [
    "barabasi_albert_params_list = [\n",
    "    {'n': 30, 'm': 1},\n",
    "    {'n': 30, 'm': 2},\n",
    "    {'n': 30, 'm': 5}\n",
    "]\n",
    "\n",
    "comparison_list = []\n",
    "\n",
    "for params in barabasi_albert_params_list:\n",
    "    graph = generate_graph(nx.barabasi_albert_graph, params)\n",
    "    new_graph = recreate_graph(graph)\n",
    "    comparison_list.append(compare(graph, new_graph))\n",
    "    \n",
    "average_comparison(comparison_list)"
   ]
  }
 ],
 "metadata": {
  "kernelspec": {
   "display_name": "cna",
   "language": "python",
   "name": "cna"
  },
  "language_info": {
   "codemirror_mode": {
    "name": "ipython",
    "version": 3
   },
   "file_extension": ".py",
   "mimetype": "text/x-python",
   "name": "python",
   "nbconvert_exporter": "python",
   "pygments_lexer": "ipython3",
   "version": "3.5.2"
  }
 },
 "nbformat": 4,
 "nbformat_minor": 2
}

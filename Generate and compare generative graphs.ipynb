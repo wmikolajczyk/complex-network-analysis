{
 "cells": [
  {
   "cell_type": "code",
   "execution_count": 1,
   "metadata": {},
   "outputs": [
    {
     "name": "stderr",
     "output_type": "stream",
     "text": [
      "Using TensorFlow backend.\n",
      "/home/smoq/.virtualenvs/cna/lib/python3.6/importlib/_bootstrap.py:219: RuntimeWarning: compiletime version 3.5 of module 'tensorflow.python.framework.fast_tensor_util' does not match runtime version 3.6\n",
      "  return f(*args, **kwds)\n"
     ]
    }
   ],
   "source": [
    "import networkx as nx\n",
    "import matplotlib.pyplot as plt\n",
    "\n",
    "from compare_graphs import get_graph_measurements, compare_measurements, average_comparison\n",
    "from generate_graph import generate_graph, recreate_graph"
   ]
  },
  {
   "cell_type": "code",
   "execution_count": 2,
   "metadata": {},
   "outputs": [
    {
     "name": "stdout",
     "output_type": "stream",
     "text": [
      "Cannot compute average_shortest_path_length - Graph is not connected.\n",
      "Cannot compute diameter - Found infinite path length because the graph is not connected\n",
      "Cannot compute average_shortest_path_length - Graph is not connected.\n",
      "Cannot compute diameter - Found infinite path length because the graph is not connected\n"
     ]
    },
    {
     "data": {
      "text/plain": [
       "{'average_shortest_path_length': 0.23448275862068968,\n",
       " 'betweenness_centrality': 0.26350328179704735,\n",
       " 'closeness_centrality': 0.018918841269806846,\n",
       " 'degree_centrality': 0.58368270587104309,\n",
       " 'degree_centralization': 8.42962962962963,\n",
       " 'density': 0.012260536398467433,\n",
       " 'diameter': 1.0,\n",
       " 'pagerank': 0.12138552272506138}"
      ]
     },
     "execution_count": 2,
     "metadata": {},
     "output_type": "execute_result"
    }
   ],
   "source": [
    "erdos_renyi_params_list = [\n",
    "    {'n': 30, 'p': 0.05},\n",
    "    {'n': 30, 'p': 0.1},\n",
    "    {'n': 30, 'p': 0.3}\n",
    "]\n",
    "\n",
    "comparison_list = []\n",
    "\n",
    "for params in erdos_renyi_params_list:\n",
    "    graph = generate_graph(nx.erdos_renyi_graph, params)\n",
    "    new_graph = recreate_graph(graph)\n",
    "    \n",
    "    graph_measurements = get_graph_measurements(graph)\n",
    "    new_graph_measurements = get_graph_measurements(new_graph)\n",
    "    \n",
    "    comparison_list.append(compare_measurements(graph_measurements, new_graph_measurements))\n",
    "    \n",
    "average_comparison(comparison_list)"
   ]
  },
  {
   "cell_type": "code",
   "execution_count": 3,
   "metadata": {},
   "outputs": [
    {
     "name": "stdout",
     "output_type": "stream",
     "text": [
      "Cannot compute average_shortest_path_length - Graph is not connected.\n",
      "Cannot compute diameter - Found infinite path length because the graph is not connected\n"
     ]
    },
    {
     "data": {
      "text/plain": [
       "{'average_shortest_path_length': 2.7597701149425284,\n",
       " 'betweenness_centrality': 0.001740966776830743,\n",
       " 'closeness_centrality': 1.5478878623363892e-06,\n",
       " 'degree_centrality': 0.0017615282344127785,\n",
       " 'degree_centralization': 11.962962962962962,\n",
       " 'density': 0.0007662835249042146,\n",
       " 'diameter': 8.5,\n",
       " 'pagerank': 6.1740242562359076e-05}"
      ]
     },
     "execution_count": 3,
     "metadata": {},
     "output_type": "execute_result"
    }
   ],
   "source": [
    "watts_strogatz_params_list = [\n",
    "    {'n': 30, 'k': 2, 'p': 0.05},\n",
    "    {'n': 30, 'k': 2, 'p': 0.1},\n",
    "    {'n': 30, 'k': 2, 'p': 0.3}\n",
    "]\n",
    "\n",
    "comparison_list = []\n",
    "\n",
    "for params in watts_strogatz_params_list:\n",
    "    graph = generate_graph(nx.watts_strogatz_graph, params)\n",
    "    new_graph = recreate_graph(graph)\n",
    "    \n",
    "    graph_measurements = get_graph_measurements(graph)\n",
    "    new_graph_measurements = get_graph_measurements(new_graph)\n",
    "    \n",
    "    comparison_list.append(compare_measurements(graph_measurements, new_graph_measurements))\n",
    "    \n",
    "average_comparison(comparison_list)"
   ]
  },
  {
   "cell_type": "code",
   "execution_count": 4,
   "metadata": {},
   "outputs": [
    {
     "name": "stdout",
     "output_type": "stream",
     "text": [
      "Cannot compute average_shortest_path_length - Graph is not connected.\n",
      "Cannot compute diameter - Found infinite path length because the graph is not connected\n"
     ]
    },
    {
     "data": {
      "text/plain": [
       "{'average_shortest_path_length': 0.06321839080459757,\n",
       " 'betweenness_centrality': 0.67013588797294943,\n",
       " 'closeness_centrality': 0.28962984961581711,\n",
       " 'degree_centrality': 0.75934758830656612,\n",
       " 'degree_centralization': 2.384347678465325,\n",
       " 'density': 0.015325670498084296,\n",
       " 'diameter': 0.0,\n",
       " 'pagerank': 0.68576418664295435}"
      ]
     },
     "execution_count": 4,
     "metadata": {},
     "output_type": "execute_result"
    }
   ],
   "source": [
    "barabasi_albert_params_list = [\n",
    "    {'n': 30, 'm': 1},\n",
    "    {'n': 30, 'm': 2},\n",
    "    {'n': 30, 'm': 5}\n",
    "]\n",
    "\n",
    "comparison_list = []\n",
    "\n",
    "for params in barabasi_albert_params_list:\n",
    "    graph = generate_graph(nx.barabasi_albert_graph, params)\n",
    "    new_graph = recreate_graph(graph)\n",
    "    \n",
    "    graph_measurements = get_graph_measurements(graph)\n",
    "    new_graph_measurements = get_graph_measurements(new_graph)\n",
    "    \n",
    "    comparison_list.append(compare_measurements(graph_measurements, new_graph_measurements))\n",
    "    \n",
    "average_comparison(comparison_list)"
   ]
  }
 ],
 "metadata": {
  "kernelspec": {
   "display_name": "cna",
   "language": "python",
   "name": "cna"
  },
  "language_info": {
   "codemirror_mode": {
    "name": "ipython",
    "version": 3
   },
   "file_extension": ".py",
   "mimetype": "text/x-python",
   "name": "python",
   "nbconvert_exporter": "python",
   "pygments_lexer": "ipython3",
   "version": "3.6.3"
  }
 },
 "nbformat": 4,
 "nbformat_minor": 2
}

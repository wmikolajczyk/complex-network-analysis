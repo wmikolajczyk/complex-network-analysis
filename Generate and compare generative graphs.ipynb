{
 "cells": [
  {
   "cell_type": "code",
   "execution_count": 1,
   "metadata": {},
   "outputs": [
    {
     "name": "stderr",
     "output_type": "stream",
     "text": [
      "Using TensorFlow backend.\n",
      "/home/smoq/.virtualenvs/cna/lib/python3.6/importlib/_bootstrap.py:219: RuntimeWarning: compiletime version 3.5 of module 'tensorflow.python.framework.fast_tensor_util' does not match runtime version 3.6\n",
      "  return f(*args, **kwds)\n"
     ]
    }
   ],
   "source": [
    "import networkx as nx\n",
    "\n",
    "from compare_graphs import average_comparison, print_comparison_result\n",
    "from analyse_graph_family import analyse_graph_family"
   ]
  },
  {
   "cell_type": "code",
   "execution_count": 2,
   "metadata": {},
   "outputs": [
    {
     "name": "stdout",
     "output_type": "stream",
     "text": [
      "Epoch 1/10\n",
      "900/900 [==============================] - 0s 61us/step - loss: 0.3927\n",
      "Epoch 2/10\n",
      " 32/900 [>.............................] - ETA: 0s - loss: 0.1477"
     ]
    },
    {
     "name": "stderr",
     "output_type": "stream",
     "text": [
      "/home/smoq/projects/complex-network-analysis/neural_net_model.py:62: FutureWarning: '.reindex_axis' is deprecated and will be removed in a future version. Use '.reindex' instead.\n",
      "  df = df.reindex_axis(sorted(df.columns), axis=1)\n"
     ]
    },
    {
     "name": "stdout",
     "output_type": "stream",
     "text": [
      "900/900 [==============================] - 0s 25us/step - loss: 0.3441\n",
      "Epoch 3/10\n",
      "900/900 [==============================] - 0s 25us/step - loss: 0.2516\n",
      "Epoch 4/10\n",
      "900/900 [==============================] - 0s 28us/step - loss: 0.2594\n",
      "Epoch 5/10\n",
      "900/900 [==============================] - 0s 32us/step - loss: 0.2416\n",
      "Epoch 6/10\n",
      "900/900 [==============================] - 0s 30us/step - loss: 0.2415\n",
      "Epoch 7/10\n",
      "900/900 [==============================] - 0s 29us/step - loss: 0.2343\n",
      "Epoch 8/10\n",
      "900/900 [==============================] - 0s 28us/step - loss: 0.3217\n",
      "Epoch 9/10\n",
      "900/900 [==============================] - 0s 34us/step - loss: 0.2351\n",
      "Epoch 10/10\n",
      "900/900 [==============================] - 0s 25us/step - loss: 0.2743\n",
      "Cannot compute average_shortest_path_length - Graph is not connected.\n",
      "Cannot compute diameter - Found infinite path length because the graph is not connected\n",
      "Epoch 1/10\n",
      "900/900 [==============================] - 0s 94us/step - loss: 0.4268\n",
      "Epoch 2/10\n",
      "900/900 [==============================] - 0s 25us/step - loss: 0.3632\n",
      "Epoch 3/10\n",
      "900/900 [==============================] - 0s 27us/step - loss: 0.3581\n",
      "Epoch 4/10\n",
      "900/900 [==============================] - 0s 28us/step - loss: 0.3374\n",
      "Epoch 5/10\n",
      "900/900 [==============================] - 0s 25us/step - loss: 0.3573\n",
      "Epoch 6/10\n",
      "900/900 [==============================] - 0s 30us/step - loss: 0.3326\n",
      "Epoch 7/10\n",
      "900/900 [==============================] - 0s 29us/step - loss: 0.3372\n",
      "Epoch 8/10\n",
      "900/900 [==============================] - 0s 24us/step - loss: 0.3256\n",
      "Epoch 9/10\n",
      "900/900 [==============================] - 0s 27us/step - loss: 0.3323\n",
      "Epoch 10/10\n",
      "900/900 [==============================] - 0s 28us/step - loss: 0.3357\n",
      "Epoch 1/10\n",
      "900/900 [==============================] - 0s 95us/step - loss: 0.6422\n",
      "Epoch 2/10\n",
      "900/900 [==============================] - 0s 23us/step - loss: 0.6363\n",
      "Epoch 3/10\n",
      "900/900 [==============================] - 0s 23us/step - loss: 0.6320\n",
      "Epoch 4/10\n",
      "900/900 [==============================] - 0s 22us/step - loss: 0.6294\n",
      "Epoch 5/10\n",
      "900/900 [==============================] - 0s 23us/step - loss: 0.6274\n",
      "Epoch 6/10\n",
      "900/900 [==============================] - 0s 22us/step - loss: 0.6242\n",
      "Epoch 7/10\n",
      "900/900 [==============================] - 0s 26us/step - loss: 0.6229\n",
      "Epoch 8/10\n",
      "900/900 [==============================] - 0s 26us/step - loss: 0.6219\n",
      "Epoch 9/10\n",
      "900/900 [==============================] - 0s 26us/step - loss: 0.6195\n",
      "Epoch 10/10\n",
      "900/900 [==============================] - 0s 27us/step - loss: 0.6186\n",
      "Epoch 1/10\n",
      "900/900 [==============================] - 0s 100us/step - loss: 0.3332\n",
      "Epoch 2/10\n",
      "900/900 [==============================] - 0s 21us/step - loss: 0.2908\n",
      "Epoch 3/10\n",
      "900/900 [==============================] - 0s 22us/step - loss: 0.3330\n",
      "Epoch 4/10\n",
      "900/900 [==============================] - 0s 25us/step - loss: 0.3228\n",
      "Epoch 5/10\n",
      "900/900 [==============================] - 0s 22us/step - loss: 0.4745\n",
      "Epoch 6/10\n",
      "900/900 [==============================] - 0s 23us/step - loss: 0.2905\n",
      "Epoch 7/10\n",
      "900/900 [==============================] - 0s 21us/step - loss: 0.3097\n",
      "Epoch 8/10\n",
      "900/900 [==============================] - 0s 23us/step - loss: 0.2792\n",
      "Epoch 9/10\n",
      "900/900 [==============================] - 0s 24us/step - loss: 0.2905\n",
      "Epoch 10/10\n",
      "900/900 [==============================] - 0s 25us/step - loss: 5.0784\n",
      "Cannot compute average_shortest_path_length - Graph is not connected.\n",
      "Cannot compute diameter - Found infinite path length because the graph is not connected\n",
      "Epoch 1/10\n",
      "900/900 [==============================] - 0s 107us/step - loss: 0.3484\n",
      "Epoch 2/10\n",
      "900/900 [==============================] - 0s 26us/step - loss: 0.3479\n",
      "Epoch 3/10\n",
      "900/900 [==============================] - 0s 23us/step - loss: 0.3612\n",
      "Epoch 4/10\n",
      "900/900 [==============================] - 0s 21us/step - loss: 0.3697\n",
      "Epoch 5/10\n",
      "900/900 [==============================] - 0s 25us/step - loss: 0.4836\n",
      "Epoch 6/10\n",
      "900/900 [==============================] - 0s 24us/step - loss: 0.3139\n",
      "Epoch 7/10\n",
      "900/900 [==============================] - 0s 21us/step - loss: 0.3036\n",
      "Epoch 8/10\n",
      "900/900 [==============================] - 0s 21us/step - loss: 0.2635\n",
      "Epoch 9/10\n",
      "900/900 [==============================] - 0s 22us/step - loss: 0.3446\n",
      "Epoch 10/10\n",
      "900/900 [==============================] - 0s 24us/step - loss: 0.3045\n",
      "Cannot compute average_shortest_path_length - Graph is not connected.\n",
      "Cannot compute diameter - Found infinite path length because the graph is not connected\n",
      "Epoch 1/10\n",
      "900/900 [==============================] - 0s 111us/step - loss: 0.3529\n",
      "Epoch 2/10\n",
      "900/900 [==============================] - 0s 21us/step - loss: 0.4907\n",
      "Epoch 3/10\n",
      "900/900 [==============================] - 0s 21us/step - loss: 0.3202\n",
      "Epoch 4/10\n",
      "900/900 [==============================] - 0s 21us/step - loss: 0.3703\n",
      "Epoch 5/10\n",
      "900/900 [==============================] - 0s 20us/step - loss: 0.3596\n",
      "Epoch 6/10\n",
      "900/900 [==============================] - 0s 21us/step - loss: 4.4903\n",
      "Epoch 7/10\n",
      "900/900 [==============================] - 0s 22us/step - loss: 14.8796\n",
      "Epoch 8/10\n",
      "900/900 [==============================] - 0s 21us/step - loss: 14.8796\n",
      "Epoch 9/10\n",
      "900/900 [==============================] - 0s 21us/step - loss: 14.8796\n",
      "Epoch 10/10\n",
      "900/900 [==============================] - 0s 20us/step - loss: 14.8796\n",
      "Epoch 1/10\n",
      "900/900 [==============================] - 0s 144us/step - loss: 0.3587\n",
      "Epoch 2/10\n",
      "900/900 [==============================] - 0s 23us/step - loss: 9.1534\n",
      "Epoch 3/10\n",
      "900/900 [==============================] - 0s 22us/step - loss: 14.9150\n",
      "Epoch 4/10\n",
      "900/900 [==============================] - 0s 22us/step - loss: 14.9150\n",
      "Epoch 5/10\n",
      "900/900 [==============================] - 0s 22us/step - loss: 14.9150\n",
      "Epoch 6/10\n",
      "900/900 [==============================] - 0s 21us/step - loss: 14.9150\n",
      "Epoch 7/10\n",
      "900/900 [==============================] - 0s 22us/step - loss: 14.9150\n",
      "Epoch 8/10\n",
      "900/900 [==============================] - 0s 21us/step - loss: 14.9150\n",
      "Epoch 9/10\n",
      "900/900 [==============================] - 0s 23us/step - loss: 14.9150\n",
      "Epoch 10/10\n",
      "900/900 [==============================] - 0s 22us/step - loss: 14.9150\n",
      "Cannot compute average_shortest_path_length - Graph is not connected.\n",
      "Cannot compute diameter - Found infinite path length because the graph is not connected\n",
      "Epoch 1/10\n",
      "900/900 [==============================] - 0s 132us/step - loss: 0.4157\n",
      "Epoch 2/10\n",
      "900/900 [==============================] - 0s 20us/step - loss: 0.3797\n",
      "Epoch 3/10\n",
      "900/900 [==============================] - 0s 21us/step - loss: 0.3622\n",
      "Epoch 4/10\n",
      "900/900 [==============================] - 0s 22us/step - loss: 0.3476\n",
      "Epoch 5/10\n",
      "900/900 [==============================] - 0s 21us/step - loss: 0.3453\n",
      "Epoch 6/10\n",
      "900/900 [==============================] - 0s 21us/step - loss: 0.3383\n",
      "Epoch 7/10\n",
      "900/900 [==============================] - 0s 20us/step - loss: 0.3378\n",
      "Epoch 8/10\n",
      "900/900 [==============================] - 0s 21us/step - loss: 0.3292\n",
      "Epoch 9/10\n",
      "900/900 [==============================] - 0s 21us/step - loss: 0.3226\n",
      "Epoch 10/10\n",
      "900/900 [==============================] - 0s 21us/step - loss: 0.3148\n",
      "Epoch 1/10\n",
      "900/900 [==============================] - 0s 141us/step - loss: 0.6100\n",
      "Epoch 2/10\n",
      "900/900 [==============================] - 0s 22us/step - loss: 0.6021\n",
      "Epoch 3/10\n",
      "900/900 [==============================] - 0s 21us/step - loss: 0.5949\n",
      "Epoch 4/10\n",
      "900/900 [==============================] - 0s 20us/step - loss: 0.5896\n",
      "Epoch 5/10\n",
      "900/900 [==============================] - 0s 21us/step - loss: 0.5837\n",
      "Epoch 6/10\n",
      "900/900 [==============================] - 0s 21us/step - loss: 0.5787\n",
      "Epoch 7/10\n",
      "900/900 [==============================] - 0s 21us/step - loss: 0.5743\n",
      "Epoch 8/10\n",
      "900/900 [==============================] - 0s 20us/step - loss: 0.5709\n",
      "Epoch 9/10\n",
      "900/900 [==============================] - 0s 21us/step - loss: 0.5639\n",
      "Epoch 10/10\n",
      "900/900 [==============================] - 0s 20us/step - loss: 0.5608\n"
     ]
    }
   ],
   "source": [
    "erdos_renyi_params_list = [\n",
    "    {'n': 30, 'p': 0.05},\n",
    "    {'n': 30, 'p': 0.1},\n",
    "    {'n': 30, 'p': 0.3}\n",
    "]\n",
    "watts_strogatz_params_list = [\n",
    "    {'n': 30, 'k': 2, 'p': 0.05},\n",
    "    {'n': 30, 'k': 2, 'p': 0.1},\n",
    "    {'n': 30, 'k': 2, 'p': 0.3}\n",
    "]\n",
    "barabasi_albert_params_list = [\n",
    "    {'n': 30, 'm': 1},\n",
    "    {'n': 30, 'm': 2},\n",
    "    {'n': 30, 'm': 5}\n",
    "]\n",
    "\n",
    "erdos_renyi_analysis = analyse_graph_family(erdos_renyi_params_list, nx.erdos_renyi_graph)\n",
    "watts_strogatz_analysis = analyse_graph_family(watts_strogatz_params_list, nx.watts_strogatz_graph)\n",
    "barabasi_albert_analysis = analyse_graph_family(barabasi_albert_params_list, nx.barabasi_albert_graph)"
   ]
  },
  {
   "cell_type": "code",
   "execution_count": 3,
   "metadata": {},
   "outputs": [
    {
     "name": "stdout",
     "output_type": "stream",
     "text": [
      "(KS test p-value) degree_centrality = 0.6829771656193939\n",
      "(KS test p-value) closeness_centrality = 0.03666239594643431\n",
      "(KS test p-value) betweenness_centrality = 0.2621728529954365\n",
      "(KS test p-value) pagerank = 0.2191171940391072\n",
      "(abs distance) average_shortest_path_length = 0.10503321968703556\n",
      "(abs distance) diameter = 0.16666666666666666\n",
      "(abs distance) degree_centralization = 0.4767818312303001\n",
      "(abs distance) density = 0.08980121865947466\n"
     ]
    }
   ],
   "source": [
    "erdos_renyi_comparison = average_comparison([x['comparison'] for x in erdos_renyi_analysis])\n",
    "print_comparison_result(erdos_renyi_comparison)"
   ]
  },
  {
   "cell_type": "code",
   "execution_count": 4,
   "metadata": {},
   "outputs": [
    {
     "name": "stdout",
     "output_type": "stream",
     "text": [
      "(KS test p-value) degree_centrality = 0.13292438398224204\n",
      "(KS test p-value) closeness_centrality = 0.21534597824905918\n",
      "(KS test p-value) betweenness_centrality = 0.11401332225243099\n",
      "(KS test p-value) pagerank = 0.027155023657926363\n",
      "(abs distance) average_shortest_path_length = 0.13311804808037317\n",
      "(abs distance) diameter = 0.17647058823529413\n",
      "(abs distance) degree_centralization = 0.7177248677248677\n",
      "(abs distance) density = 0.011111111111111112\n"
     ]
    }
   ],
   "source": [
    "watts_strogatz_comparison = average_comparison([x['comparison'] for x in watts_strogatz_analysis])\n",
    "print_comparison_result(watts_strogatz_comparison)"
   ]
  },
  {
   "cell_type": "code",
   "execution_count": 5,
   "metadata": {},
   "outputs": [
    {
     "name": "stdout",
     "output_type": "stream",
     "text": [
      "(KS test p-value) degree_centrality = 0.7806779505254898\n",
      "(KS test p-value) closeness_centrality = 0.21534752599801496\n",
      "(KS test p-value) betweenness_centrality = 0.7380171166746153\n",
      "(KS test p-value) pagerank = 0.3764640336876419\n",
      "(abs distance) average_shortest_path_length = 0.03961071178841728\n",
      "(abs distance) diameter = 0.0\n",
      "(abs distance) degree_centralization = 0.12405826432679817\n",
      "(abs distance) density = 0.026666666666666634\n"
     ]
    }
   ],
   "source": [
    "barabasi_albert_comparison = average_comparison([x['comparison'] for x in barabasi_albert_analysis])\n",
    "print_comparison_result(barabasi_albert_comparison)"
   ]
  }
 ],
 "metadata": {
  "kernelspec": {
   "display_name": "cna",
   "language": "python",
   "name": "cna"
  },
  "language_info": {
   "codemirror_mode": {
    "name": "ipython",
    "version": 3
   },
   "file_extension": ".py",
   "mimetype": "text/x-python",
   "name": "python",
   "nbconvert_exporter": "python",
   "pygments_lexer": "ipython3",
   "version": "3.6.3"
  }
 },
 "nbformat": 4,
 "nbformat_minor": 2
}

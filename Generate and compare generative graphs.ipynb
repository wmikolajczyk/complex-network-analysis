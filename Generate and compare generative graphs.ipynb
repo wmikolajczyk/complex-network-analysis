{
 "cells": [
  {
   "cell_type": "code",
   "execution_count": 1,
   "metadata": {},
   "outputs": [
    {
     "name": "stderr",
     "output_type": "stream",
     "text": [
      "Using TensorFlow backend.\n"
     ]
    }
   ],
   "source": [
    "import networkx as nx\n",
    "import matplotlib.pyplot as plt\n",
    "\n",
    "from compare_graphs import get_graph_measurements, compare_measurements, average_comparison\n",
    "from generate_graph import generate_graph, recreate_graph"
   ]
  },
  {
   "cell_type": "code",
   "execution_count": 2,
   "metadata": {},
   "outputs": [
    {
     "name": "stdout",
     "output_type": "stream",
     "text": [
      "Cannot compute average_shortest_path_length - Graph is not connected.\n",
      "Cannot compute diameter - Found infinite path length because the graph is not connected\n"
     ]
    },
    {
     "data": {
      "text/plain": [
       "{'average_shortest_path_length': 0.18965517241379315,\n",
       " 'betweenness_centrality': 0.27226182746397759,\n",
       " 'closeness_centrality': 0.010221817516864004,\n",
       " 'degree_centrality': 0.63262447996864235,\n",
       " 'degree_centralization': 8.452421652421654,\n",
       " 'density': 0.01302681992337166,\n",
       " 'diameter': 0.5,\n",
       " 'pagerank': 0.13732131653349225}"
      ]
     },
     "execution_count": 2,
     "metadata": {},
     "output_type": "execute_result"
    }
   ],
   "source": [
    "erdos_renyi_params_list = [\n",
    "    {'n': 30, 'p': 0.05},\n",
    "    {'n': 30, 'p': 0.1},\n",
    "    {'n': 30, 'p': 0.3}\n",
    "]\n",
    "\n",
    "comparison_list = []\n",
    "\n",
    "for params in erdos_renyi_params_list:\n",
    "    graph = generate_graph(nx.erdos_renyi_graph, params)\n",
    "    new_graph = recreate_graph(graph)\n",
    "    \n",
    "    graph_measurements = get_graph_measurements(graph)\n",
    "    new_graph_measurements = get_graph_measurements(new_graph)\n",
    "    \n",
    "    comparison_list.append(compare_measurements(graph_measurements, new_graph_measurements))\n",
    "    \n",
    "average_comparison(comparison_list)"
   ]
  },
  {
   "cell_type": "code",
   "execution_count": 3,
   "metadata": {},
   "outputs": [
    {
     "name": "stdout",
     "output_type": "stream",
     "text": [
      "Cannot compute average_shortest_path_length - Graph is not connected.\n",
      "Cannot compute diameter - Found infinite path length because the graph is not connected\n",
      "Cannot compute average_shortest_path_length - Graph is not connected.\n",
      "Cannot compute diameter - Found infinite path length because the graph is not connected\n",
      "Cannot compute average_shortest_path_length - Graph is not connected.\n",
      "Cannot compute diameter - Found infinite path length because the graph is not connected\n"
     ]
    },
    {
     "data": {
      "text/plain": [
       "{'average_shortest_path_length': None,\n",
       " 'betweenness_centrality': 1.9326766065447762e-06,\n",
       " 'closeness_centrality': 0.018331011229441762,\n",
       " 'degree_centrality': 0.0039970556642172335,\n",
       " 'degree_centralization': 12.0,\n",
       " 'density': 0.0,\n",
       " 'diameter': None,\n",
       " 'pagerank': 0.00014059550621913172}"
      ]
     },
     "execution_count": 3,
     "metadata": {},
     "output_type": "execute_result"
    }
   ],
   "source": [
    "watts_strogatz_params_list = [\n",
    "    {'n': 30, 'k': 2, 'p': 0.05},\n",
    "    {'n': 30, 'k': 2, 'p': 0.1},\n",
    "    {'n': 30, 'k': 2, 'p': 0.3}\n",
    "]\n",
    "\n",
    "comparison_list = []\n",
    "\n",
    "for params in watts_strogatz_params_list:\n",
    "    graph = generate_graph(nx.watts_strogatz_graph, params)\n",
    "    new_graph = recreate_graph(graph)\n",
    "    \n",
    "    graph_measurements = get_graph_measurements(graph)\n",
    "    new_graph_measurements = get_graph_measurements(new_graph)\n",
    "    \n",
    "    comparison_list.append(compare_measurements(graph_measurements, new_graph_measurements))\n",
    "    \n",
    "average_comparison(comparison_list)"
   ]
  },
  {
   "cell_type": "code",
   "execution_count": 4,
   "metadata": {},
   "outputs": [
    {
     "data": {
      "text/plain": [
       "{'average_shortest_path_length': 0.30114942528735617,\n",
       " 'betweenness_centrality': 0.81870053520855357,\n",
       " 'closeness_centrality': 0.19911745100097678,\n",
       " 'degree_centrality': 0.82440259875747257,\n",
       " 'degree_centralization': 2.467136349489291,\n",
       " 'density': 0.012260536398467437,\n",
       " 'diameter': 1.3333333333333333,\n",
       " 'pagerank': 0.54642674316121898}"
      ]
     },
     "execution_count": 4,
     "metadata": {},
     "output_type": "execute_result"
    }
   ],
   "source": [
    "barabasi_albert_params_list = [\n",
    "    {'n': 30, 'm': 1},\n",
    "    {'n': 30, 'm': 2},\n",
    "    {'n': 30, 'm': 5}\n",
    "]\n",
    "\n",
    "comparison_list = []\n",
    "\n",
    "for params in barabasi_albert_params_list:\n",
    "    graph = generate_graph(nx.barabasi_albert_graph, params)\n",
    "    new_graph = recreate_graph(graph)\n",
    "    \n",
    "    graph_measurements = get_graph_measurements(graph)\n",
    "    new_graph_measurements = get_graph_measurements(new_graph)\n",
    "    \n",
    "    comparison_list.append(compare_measurements(graph_measurements, new_graph_measurements))\n",
    "    \n",
    "average_comparison(comparison_list)"
   ]
  }
 ],
 "metadata": {
  "kernelspec": {
   "display_name": "cna",
   "language": "python",
   "name": "cna"
  },
  "language_info": {
   "codemirror_mode": {
    "name": "ipython",
    "version": 3
   },
   "file_extension": ".py",
   "mimetype": "text/x-python",
   "name": "python",
   "nbconvert_exporter": "python",
   "pygments_lexer": "ipython3",
   "version": "3.5.2"
  }
 },
 "nbformat": 4,
 "nbformat_minor": 2
}

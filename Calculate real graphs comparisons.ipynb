{
 "cells": [
  {
   "cell_type": "code",
   "execution_count": 1,
   "metadata": {},
   "outputs": [
    {
     "name": "stderr",
     "output_type": "stream",
     "text": [
      "Using TensorFlow backend.\n",
      "/home/smoq/.virtualenvs/cna/lib/python3.6/importlib/_bootstrap.py:219: RuntimeWarning: compiletime version 3.5 of module 'tensorflow.python.framework.fast_tensor_util' does not match runtime version 3.6\n",
      "  return f(*args, **kwds)\n"
     ]
    }
   ],
   "source": [
    "import os\n",
    "import pickle\n",
    "\n",
    "import pandas as pd\n",
    "\n",
    "from graphs import load_dataset_to_graph\n",
    "from measurements import get_graph_measurements, compare_graph_measurements, \\\n",
    "    print_comparison_results\n",
    "from recreate_graph import recreate_by_priority_rank_random_rankings, \\\n",
    "    recreate_by_priority_rank, get_trained_model"
   ]
  },
  {
   "cell_type": "code",
   "execution_count": 2,
   "metadata": {},
   "outputs": [],
   "source": [
    "prepared_datasets_path = 'prepared_datasets'\n",
    "prepared_dataframes_path = 'prepared_dataframes'\n",
    "delimiter = '\\t'\n",
    "\n",
    "prepared_dataset_names = [\n",
    "    #'primary_school', 'workplace', \n",
    "    'highschool_2011', #'highschool_2012', 'hospital', \n",
    "    #'moreno_blogs', 'moreno_sheep', 'moreno_seventh',\n",
    "    #'moreno_seventh',\n",
    "    # big datasets\n",
    "    #'petster-hamster', 'email-Eu'\n",
    "]\n",
    "\n",
    "comparison_dir = 'results'\n",
    "number_of_comparisons = 10\n",
    "\n",
    "if not os.path.exists(comparison_dir):\n",
    "    os.mkdir(comparison_dir)\n",
    "\n",
    "random_rankings_list = []\n",
    "random_rankings_path = os.path.join(comparison_dir, 'random_rankings.pkl')\n",
    "\n",
    "graph_attrs_list = []\n",
    "graph_attrs_path = os.path.join(comparison_dir, 'graph_attrs.pkl')\n",
    "\n",
    "real_attrs_list = []\n",
    "real_attrs_path = os.path.join(comparison_dir, 'real_attrs.pkl')\n",
    "\n",
    "graph_real_attrs_list = []\n",
    "graph_real_attrs_path = os.path.join(comparison_dir, 'graph_real_attrs.pkl')\n",
    "\n",
    "real_y_list = []\n",
    "real_y_path = os.path.join(comparison_dir, 'real_y.pkl')"
   ]
  },
  {
   "cell_type": "code",
   "execution_count": 3,
   "metadata": {},
   "outputs": [
    {
     "name": "stdout",
     "output_type": "stream",
     "text": [
      "Random rankings\n",
      "Processing highschool_2011\n",
      "Recreation number 0...\n"
     ]
    },
    {
     "name": "stderr",
     "output_type": "stream",
     "text": [
      "/home/smoq/.virtualenvs/cna/lib/python3.6/site-packages/networkx/algorithms/assortativity/correlation.py:287: RuntimeWarning: invalid value encountered in double_scalars\n",
      "  return (xy*(M-ab)).sum()/numpy.sqrt(vara*varb)\n"
     ]
    },
    {
     "name": "stdout",
     "output_type": "stream",
     "text": [
      "Recreation number 1...\n"
     ]
    },
    {
     "name": "stderr",
     "output_type": "stream",
     "text": [
      "/home/smoq/.virtualenvs/cna/lib/python3.6/site-packages/networkx/algorithms/assortativity/correlation.py:287: RuntimeWarning: divide by zero encountered in double_scalars\n",
      "  return (xy*(M-ab)).sum()/numpy.sqrt(vara*varb)\n"
     ]
    },
    {
     "name": "stdout",
     "output_type": "stream",
     "text": [
      "Recreation number 2...\n",
      "Recreation number 3...\n",
      "Recreation number 4...\n",
      "Recreation number 5...\n",
      "Recreation number 6...\n",
      "Recreation number 7...\n",
      "Recreation number 8...\n",
      "Recreation number 9...\n"
     ]
    }
   ],
   "source": [
    "# Random Rankings\n",
    "print('Random rankings')\n",
    "for dataset_name in prepared_dataset_names:\n",
    "    dataset_path = os.path.join(prepared_datasets_path, dataset_name)\n",
    "    dataframe_path = os.path.join(prepared_dataframes_path, dataset_name)\n",
    "    graph = load_dataset_to_graph(dataset_path, node_limit=500)\n",
    "\n",
    "    print('Processing {}'.format(dataset_name))\n",
    "\n",
    "    for i in range(number_of_comparisons):\n",
    "        print('Recreation number {}...'.format(i))\n",
    "        new_graph = recreate_by_priority_rank_random_rankings(graph)\n",
    "\n",
    "        graph_measurements = get_graph_measurements(graph)\n",
    "        new_graph_measurements = get_graph_measurements(new_graph)\n",
    "        comparison = compare_graph_measurements(graph_measurements, new_graph_measurements)\n",
    "        random_rankings_list.append(comparison)\n",
    "    with open(random_rankings_path, 'wb') as f:\n",
    "        pickle.dump(random_rankings_list, f)"
   ]
  },
  {
   "cell_type": "code",
   "execution_count": 4,
   "metadata": {},
   "outputs": [
    {
     "name": "stdout",
     "output_type": "stream",
     "text": [
      "Only graph attributes\n",
      "Processing highschool_2011\n",
      "Epoch 1/4\n",
      "15876/15876 [==============================] - 0s 17us/step - loss: 0.0501 - acc: 0.7846\n",
      "Epoch 2/4\n",
      "15876/15876 [==============================] - 0s 11us/step - loss: 0.0112 - acc: 0.7846\n",
      "Epoch 3/4\n",
      "15876/15876 [==============================] - 0s 10us/step - loss: 0.0057 - acc: 0.7846\n",
      "Epoch 4/4\n",
      "15876/15876 [==============================] - 0s 11us/step - loss: 0.0039 - acc: 0.7846\n",
      "15876/15876 [==============================] - 0s 15us/step\n",
      "loss: 0.0033145744811421325, accuracy: 0.7846434870244394\n",
      "Recreation number 0...\n",
      "Recreation number 1...\n"
     ]
    },
    {
     "name": "stderr",
     "output_type": "stream",
     "text": [
      "/home/smoq/.virtualenvs/cna/lib/python3.6/site-packages/networkx/algorithms/assortativity/correlation.py:287: RuntimeWarning: divide by zero encountered in double_scalars\n",
      "  return (xy*(M-ab)).sum()/numpy.sqrt(vara*varb)\n"
     ]
    },
    {
     "name": "stdout",
     "output_type": "stream",
     "text": [
      "Recreation number 2...\n"
     ]
    },
    {
     "name": "stderr",
     "output_type": "stream",
     "text": [
      "/home/smoq/.virtualenvs/cna/lib/python3.6/site-packages/networkx/algorithms/assortativity/correlation.py:287: RuntimeWarning: invalid value encountered in sqrt\n",
      "  return (xy*(M-ab)).sum()/numpy.sqrt(vara*varb)\n"
     ]
    },
    {
     "name": "stdout",
     "output_type": "stream",
     "text": [
      "Recreation number 3...\n"
     ]
    },
    {
     "name": "stderr",
     "output_type": "stream",
     "text": [
      "/home/smoq/.virtualenvs/cna/lib/python3.6/site-packages/networkx/algorithms/assortativity/correlation.py:287: RuntimeWarning: invalid value encountered in double_scalars\n",
      "  return (xy*(M-ab)).sum()/numpy.sqrt(vara*varb)\n"
     ]
    },
    {
     "name": "stdout",
     "output_type": "stream",
     "text": [
      "Recreation number 4...\n",
      "Recreation number 5...\n",
      "Recreation number 6...\n",
      "Recreation number 7...\n",
      "Recreation number 8...\n",
      "Recreation number 9...\n"
     ]
    }
   ],
   "source": [
    "# Only graph attributes\n",
    "print('Only graph attributes')\n",
    "for dataset_name in prepared_dataset_names:\n",
    "    dataset_path = os.path.join(prepared_datasets_path, dataset_name)\n",
    "    dataframe_path = os.path.join(prepared_dataframes_path, dataset_name)\n",
    "    graph = load_dataset_to_graph(dataset_path, node_limit=500)\n",
    "\n",
    "    print('Processing {}'.format(dataset_name))\n",
    "    graph_attrs_dataframe_path = os.path.join(dataframe_path, 'graph_attrs.csv')\n",
    "    df = pd.read_csv(graph_attrs_dataframe_path, delimiter=delimiter)\n",
    "\n",
    "    model = get_trained_model(df, epochs=4)\n",
    "    # drop target column\n",
    "    X_test = df.drop(['num_of_edges'], axis=1)\n",
    "    # predict num_edges\n",
    "    y_pred = model.predict(X_test)\n",
    "\n",
    "    for i in range(number_of_comparisons):\n",
    "        print('Recreation number {}...'.format(i))\n",
    "        new_graph = recreate_by_priority_rank(graph, y_pred)\n",
    "\n",
    "        graph_measurements = get_graph_measurements(graph)\n",
    "        new_graph_measurements = get_graph_measurements(new_graph)\n",
    "        comparison = compare_graph_measurements(graph_measurements, new_graph_measurements)\n",
    "        graph_attrs_list.append(comparison)\n",
    "    with open(graph_attrs_path, 'wb') as f:\n",
    "        pickle.dump(graph_attrs_list, f)"
   ]
  },
  {
   "cell_type": "code",
   "execution_count": 5,
   "metadata": {},
   "outputs": [
    {
     "name": "stdout",
     "output_type": "stream",
     "text": [
      "Only real attributes\n",
      "Processing highschool_2011\n",
      "Epoch 1/4\n",
      "15876/15876 [==============================] - 0s 13us/step - loss: 0.0711 - acc: 0.7588\n",
      "Epoch 2/4\n",
      "15876/15876 [==============================] - 0s 12us/step - loss: 0.0108 - acc: 0.7846\n",
      "Epoch 3/4\n",
      "15876/15876 [==============================] - 0s 12us/step - loss: 0.0053 - acc: 0.7846\n",
      "Epoch 4/4\n",
      "15876/15876 [==============================] - 0s 12us/step - loss: 0.0035 - acc: 0.7846\n",
      "15876/15876 [==============================] - 0s 13us/step\n",
      "loss: 0.003025658960149357, accuracy: 0.7846434870244394\n",
      "Recreation number 0...\n"
     ]
    },
    {
     "name": "stderr",
     "output_type": "stream",
     "text": [
      "/home/smoq/.virtualenvs/cna/lib/python3.6/site-packages/networkx/algorithms/assortativity/correlation.py:287: RuntimeWarning: divide by zero encountered in double_scalars\n",
      "  return (xy*(M-ab)).sum()/numpy.sqrt(vara*varb)\n"
     ]
    },
    {
     "name": "stdout",
     "output_type": "stream",
     "text": [
      "Recreation number 1...\n",
      "Recreation number 2...\n",
      "Recreation number 3...\n",
      "Recreation number 4...\n",
      "Recreation number 5...\n",
      "Recreation number 6...\n",
      "Recreation number 7...\n",
      "Recreation number 8...\n",
      "Recreation number 9...\n"
     ]
    }
   ],
   "source": [
    "# Only real attributes\n",
    "print('Only real attributes')\n",
    "for dataset_name in prepared_dataset_names:\n",
    "    dataset_path = os.path.join(prepared_datasets_path, dataset_name)\n",
    "    dataframe_path = os.path.join(prepared_dataframes_path, dataset_name)\n",
    "    graph = load_dataset_to_graph(dataset_path, node_limit=500)\n",
    "\n",
    "    print('Processing {}'.format(dataset_name))\n",
    "    real_attrs_dataframe_path = os.path.join(dataframe_path, 'real_attrs.csv')\n",
    "    df = pd.read_csv(real_attrs_dataframe_path, delimiter=delimiter)\n",
    "\n",
    "    model = get_trained_model(df, epochs=4)\n",
    "    # drop target column\n",
    "    X_test = df.drop(['num_of_edges'], axis=1)\n",
    "    # predict num_edges\n",
    "    y_pred = model.predict(X_test)\n",
    "\n",
    "    for i in range(number_of_comparisons):\n",
    "        print('Recreation number {}...'.format(i))\n",
    "        new_graph = recreate_by_priority_rank(graph, y_pred)\n",
    "\n",
    "        graph_measurements = get_graph_measurements(graph)\n",
    "        new_graph_measurements = get_graph_measurements(new_graph)\n",
    "        comparison = compare_graph_measurements(graph_measurements, new_graph_measurements)\n",
    "        real_attrs_list.append(comparison)\n",
    "    with open(real_attrs_path, 'wb') as f:\n",
    "        pickle.dump(real_attrs_list, f)"
   ]
  },
  {
   "cell_type": "code",
   "execution_count": 6,
   "metadata": {},
   "outputs": [
    {
     "name": "stdout",
     "output_type": "stream",
     "text": [
      "Both graph and real attributes\n",
      "Processing highschool_2011\n",
      "Epoch 1/4\n",
      "15876/15876 [==============================] - 0s 14us/step - loss: 0.0763 - acc: 0.7836\n",
      "Epoch 2/4\n",
      "15876/15876 [==============================] - 0s 11us/step - loss: 0.0103 - acc: 0.7846\n",
      "Epoch 3/4\n",
      "15876/15876 [==============================] - 0s 12us/step - loss: 0.0045 - acc: 0.7846\n",
      "Epoch 4/4\n",
      "15876/15876 [==============================] - 0s 11us/step - loss: 0.0029 - acc: 0.7846\n",
      "15876/15876 [==============================] - 0s 15us/step\n",
      "loss: 0.0024736529162728963, accuracy: 0.7846434870244394\n",
      "Recreation number 0...\n"
     ]
    },
    {
     "name": "stderr",
     "output_type": "stream",
     "text": [
      "/home/smoq/.virtualenvs/cna/lib/python3.6/site-packages/networkx/algorithms/assortativity/correlation.py:287: RuntimeWarning: divide by zero encountered in double_scalars\n",
      "  return (xy*(M-ab)).sum()/numpy.sqrt(vara*varb)\n"
     ]
    },
    {
     "name": "stdout",
     "output_type": "stream",
     "text": [
      "Recreation number 1...\n",
      "Recreation number 2...\n"
     ]
    },
    {
     "name": "stderr",
     "output_type": "stream",
     "text": [
      "/home/smoq/.virtualenvs/cna/lib/python3.6/site-packages/networkx/algorithms/assortativity/correlation.py:287: RuntimeWarning: invalid value encountered in double_scalars\n",
      "  return (xy*(M-ab)).sum()/numpy.sqrt(vara*varb)\n"
     ]
    },
    {
     "name": "stdout",
     "output_type": "stream",
     "text": [
      "Recreation number 3...\n",
      "Recreation number 4...\n",
      "Recreation number 5...\n",
      "Recreation number 6...\n",
      "Recreation number 7...\n",
      "Recreation number 8...\n",
      "Recreation number 9...\n"
     ]
    }
   ],
   "source": [
    "# Both graph and real attributes\n",
    "print('Both graph and real attributes')\n",
    "for dataset_name in prepared_dataset_names:\n",
    "    dataset_path = os.path.join(prepared_datasets_path, dataset_name)\n",
    "    dataframe_path = os.path.join(prepared_dataframes_path, dataset_name)\n",
    "    graph = load_dataset_to_graph(dataset_path, node_limit=500)\n",
    "\n",
    "    print('Processing {}'.format(dataset_name))\n",
    "    graph_real_attrs_dataframe_path = os.path.join(dataframe_path, 'graph_real_attrs.csv')\n",
    "    df = pd.read_csv(graph_real_attrs_dataframe_path, delimiter=delimiter)\n",
    "\n",
    "    model = get_trained_model(df, epochs=4)\n",
    "    # drop target column\n",
    "    X_test = df.drop(['num_of_edges'], axis=1)\n",
    "    # predict num_edges\n",
    "    y_pred = model.predict(X_test)\n",
    "\n",
    "    for i in range(number_of_comparisons):\n",
    "        print('Recreation number {}...'.format(i))\n",
    "        new_graph = recreate_by_priority_rank(graph, y_pred)\n",
    "\n",
    "        graph_measurements = get_graph_measurements(graph)\n",
    "        new_graph_measurements = get_graph_measurements(new_graph)\n",
    "        comparison = compare_graph_measurements(graph_measurements, new_graph_measurements)\n",
    "        graph_real_attrs_list.append(comparison)\n",
    "    with open(graph_real_attrs_path, 'wb') as f:\n",
    "        pickle.dump(graph_real_attrs_list, f)"
   ]
  },
  {
   "cell_type": "code",
   "execution_count": 7,
   "metadata": {},
   "outputs": [
    {
     "name": "stdout",
     "output_type": "stream",
     "text": [
      "Real y\n",
      "Processing highschool_2011\n",
      "Recreation number 0...\n"
     ]
    },
    {
     "name": "stderr",
     "output_type": "stream",
     "text": [
      "/home/smoq/.virtualenvs/cna/lib/python3.6/site-packages/networkx/algorithms/assortativity/correlation.py:287: RuntimeWarning: invalid value encountered in sqrt\n",
      "  return (xy*(M-ab)).sum()/numpy.sqrt(vara*varb)\n"
     ]
    },
    {
     "name": "stdout",
     "output_type": "stream",
     "text": [
      "Recreation number 1...\n"
     ]
    },
    {
     "name": "stderr",
     "output_type": "stream",
     "text": [
      "/home/smoq/.virtualenvs/cna/lib/python3.6/site-packages/networkx/algorithms/assortativity/correlation.py:287: RuntimeWarning: invalid value encountered in double_scalars\n",
      "  return (xy*(M-ab)).sum()/numpy.sqrt(vara*varb)\n"
     ]
    },
    {
     "name": "stdout",
     "output_type": "stream",
     "text": [
      "Recreation number 2...\n"
     ]
    },
    {
     "name": "stderr",
     "output_type": "stream",
     "text": [
      "/home/smoq/.virtualenvs/cna/lib/python3.6/site-packages/networkx/algorithms/assortativity/correlation.py:287: RuntimeWarning: divide by zero encountered in double_scalars\n",
      "  return (xy*(M-ab)).sum()/numpy.sqrt(vara*varb)\n"
     ]
    },
    {
     "name": "stdout",
     "output_type": "stream",
     "text": [
      "Recreation number 3...\n",
      "Recreation number 4...\n",
      "Recreation number 5...\n",
      "Recreation number 6...\n",
      "Recreation number 7...\n",
      "Recreation number 8...\n",
      "Recreation number 9...\n"
     ]
    }
   ],
   "source": [
    "# Real y\n",
    "print('Real y')\n",
    "for dataset_name in prepared_dataset_names:\n",
    "    dataset_path = os.path.join(prepared_datasets_path, dataset_name)\n",
    "    dataframe_path = os.path.join(prepared_dataframes_path, dataset_name)\n",
    "    graph = load_dataset_to_graph(dataset_path, node_limit=500)\n",
    "\n",
    "    print('Processing {}'.format(dataset_name))\n",
    "    real_y_dataframe_path = os.path.join(dataframe_path, 'no_attrs.csv')\n",
    "    df = pd.read_csv(real_y_dataframe_path, delimiter=delimiter)\n",
    "\n",
    "    for i in range(number_of_comparisons):\n",
    "        print('Recreation number {}...'.format(i))\n",
    "        new_graph = recreate_by_priority_rank(graph, df['num_of_edges'].as_matrix())\n",
    "\n",
    "        graph_measurements = get_graph_measurements(graph)\n",
    "        new_graph_measurements = get_graph_measurements(new_graph)\n",
    "        comparison = compare_graph_measurements(graph_measurements, new_graph_measurements)\n",
    "        real_y_list.append(comparison)\n",
    "    with open(real_y_path, 'wb') as f:\n",
    "        pickle.dump(real_y_list, f)"
   ]
  }
 ],
 "metadata": {
  "kernelspec": {
   "display_name": "cna",
   "language": "python",
   "name": "cna"
  },
  "language_info": {
   "codemirror_mode": {
    "name": "ipython",
    "version": 3
   },
   "file_extension": ".py",
   "mimetype": "text/x-python",
   "name": "python",
   "nbconvert_exporter": "python",
   "pygments_lexer": "ipython3",
   "version": "3.6.3"
  }
 },
 "nbformat": 4,
 "nbformat_minor": 2
}

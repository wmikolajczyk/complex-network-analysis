{
 "cells": [
  {
   "cell_type": "code",
   "execution_count": 1,
   "metadata": {},
   "outputs": [
    {
     "name": "stderr",
     "output_type": "stream",
     "text": [
      "Using TensorFlow backend.\n",
      "/home/smoq/.virtualenvs/cna/lib/python3.6/importlib/_bootstrap.py:219: RuntimeWarning: compiletime version 3.5 of module 'tensorflow.python.framework.fast_tensor_util' does not match runtime version 3.6\n",
      "  return f(*args, **kwds)\n"
     ]
    }
   ],
   "source": [
    "from load_real_graphs import (get_available_datasets, get_network_from_konect, CHOOSEN_DATASETS)\n",
    "from generate_graph import recreate_graph"
   ]
  },
  {
   "cell_type": "code",
   "execution_count": 2,
   "metadata": {},
   "outputs": [
    {
     "name": "stdout",
     "output_type": "stream",
     "text": [
      "skipping moreno_crime - already exists\n",
      "skipping moreno_crime - already exists\n",
      "Loading graph...\n",
      "Attaching attributes (graph measurements)...\n",
      "Attaching real attributes...\n"
     ]
    }
   ],
   "source": [
    "# try with just one network - moreno_crime (CHOOSEN_DATASETS[2][1])\n",
    "dataset_name = CHOOSEN_DATASETS[2][1]\n",
    "graph = get_network_from_konect(dataset_name)"
   ]
  },
  {
   "cell_type": "code",
   "execution_count": 3,
   "metadata": {},
   "outputs": [
    {
     "name": "stdout",
     "output_type": "stream",
     "text": [
      "Epoch 1/10\n",
      "687241/687241 [==============================] - 18s 26us/step - loss: 0.0689\n",
      "Epoch 2/10\n",
      "687241/687241 [==============================] - 18s 26us/step - loss: 0.0682\n",
      "Epoch 3/10\n",
      "687241/687241 [==============================] - 17s 24us/step - loss: 0.0681\n",
      "Epoch 4/10\n",
      "687241/687241 [==============================] - 17s 24us/step - loss: 0.0681\n",
      "Epoch 5/10\n",
      "687241/687241 [==============================] - 16s 23us/step - loss: 0.0690\n",
      "Epoch 6/10\n",
      "687241/687241 [==============================] - 16s 23us/step - loss: 0.0681\n",
      "Epoch 7/10\n",
      "687241/687241 [==============================] - 17s 25us/step - loss: 0.0697\n",
      "Epoch 8/10\n",
      "687241/687241 [==============================] - 18s 26us/step - loss: 0.0685\n",
      "Epoch 9/10\n",
      "687241/687241 [==============================] - 18s 26us/step - loss: 0.0681\n",
      "Epoch 10/10\n",
      "687241/687241 [==============================] - 18s 27us/step - loss: 0.0681\n"
     ]
    }
   ],
   "source": [
    "new_graph = recreate_graph(graph)"
   ]
  },
  {
   "cell_type": "code",
   "execution_count": 4,
   "metadata": {},
   "outputs": [
    {
     "data": {
      "text/plain": [
       "OrderedDict([('degree_centrality',\n",
       "              Ks_2sampResult(statistic=0.26296743063932448, pvalue=1.2491828165399205e-25)),\n",
       "             ('closeness_centrality',\n",
       "              Ks_2sampResult(statistic=0.77201447527141132, pvalue=1.1728269446546262e-217)),\n",
       "             ('betweenness_centrality',\n",
       "              Ks_2sampResult(statistic=0.23884197828709289, pvalue=3.2295860390973444e-21)),\n",
       "             ('pagerank',\n",
       "              Ks_2sampResult(statistic=0.26296743063932448, pvalue=1.2491828165399205e-25)),\n",
       "             ('average_shortest_path_length', 0.24545676855491275),\n",
       "             ('diameter', 0.3),\n",
       "             ('degree_centralization', 0.10626495916302713),\n",
       "             ('density', 0.1227118644067795)])"
      ]
     },
     "execution_count": 4,
     "metadata": {},
     "output_type": "execute_result"
    }
   ],
   "source": [
    "from compare_graphs import get_graph_measurements, compare_measurements\n",
    "\n",
    "original_graph_measurements = get_graph_measurements(graph)\n",
    "recreated_graph_measurements = get_graph_measurements(new_graph)\n",
    "comparison = compare_measurements(original_graph_measurements, recreated_graph_measurements)\n",
    "comparison"
   ]
  },
  {
   "cell_type": "code",
   "execution_count": 9,
   "metadata": {},
   "outputs": [
    {
     "data": {
      "text/plain": [
       "{'betweenness_centrality': 0.005104085878242281,\n",
       " 'closeness_centrality': 0.21047280122013218,\n",
       " 'degree_centrality': 0.006038647342995169,\n",
       " 'name': 'CavanaughCelia',\n",
       " 'pagerank': 0.0015903113755027548,\n",
       " 'sex': '0'}"
      ]
     },
     "execution_count": 9,
     "metadata": {},
     "output_type": "execute_result"
    }
   ],
   "source": [
    "graph.nodes[150]"
   ]
  }
 ],
 "metadata": {
  "kernelspec": {
   "display_name": "cna",
   "language": "python",
   "name": "cna"
  },
  "language_info": {
   "codemirror_mode": {
    "name": "ipython",
    "version": 3
   },
   "file_extension": ".py",
   "mimetype": "text/x-python",
   "name": "python",
   "nbconvert_exporter": "python",
   "pygments_lexer": "ipython3",
   "version": "3.6.3"
  }
 },
 "nbformat": 4,
 "nbformat_minor": 2
}

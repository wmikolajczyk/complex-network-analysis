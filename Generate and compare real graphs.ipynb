{
 "cells": [
  {
   "cell_type": "code",
   "execution_count": 1,
   "metadata": {},
   "outputs": [
    {
     "name": "stderr",
     "output_type": "stream",
     "text": [
      "Using TensorFlow backend.\n",
      "/home/smoq/.virtualenvs/cna/lib/python3.6/importlib/_bootstrap.py:219: RuntimeWarning: compiletime version 3.5 of module 'tensorflow.python.framework.fast_tensor_util' does not match runtime version 3.6\n",
      "  return f(*args, **kwds)\n"
     ]
    }
   ],
   "source": [
    "from load_real_graphs import (get_available_datasets, get_network_from_konect, CHOOSEN_DATASETS)\n",
    "from generate_graph import recreate_graph"
   ]
  },
  {
   "cell_type": "code",
   "execution_count": 2,
   "metadata": {},
   "outputs": [
    {
     "name": "stdout",
     "output_type": "stream",
     "text": [
      "skipping moreno_blogs - already exists\n",
      "skipping moreno_blogs - already exists\n",
      "Loading graph...\n",
      "Attaching attributes (graph measurements)...\n",
      "Attaching real attributes...\n"
     ]
    }
   ],
   "source": [
    "# try with just one network - moreno_crime (CHOOSEN_DATASETS[2][1])\n",
    "dataset_name = 'moreno_blogs'\n",
    "graph = get_network_from_konect(dataset_name)"
   ]
  },
  {
   "cell_type": "code",
   "execution_count": 3,
   "metadata": {},
   "outputs": [
    {
     "name": "stderr",
     "output_type": "stream",
     "text": [
      "/home/smoq/projects/complex-network-analysis/neural_net_model.py:62: FutureWarning: '.reindex_axis' is deprecated and will be removed in a future version. Use '.reindex' instead.\n",
      "  df = df.reindex_axis(sorted(df.columns), axis=1)\n"
     ]
    },
    {
     "name": "stdout",
     "output_type": "stream",
     "text": [
      "Epoch 1/10\n",
      "1498176/1498176 [==============================] - 40s 27us/step - loss: 15.4031\n",
      "Epoch 2/10\n",
      "1498176/1498176 [==============================] - 41s 27us/step - loss: 15.5866\n",
      "Epoch 3/10\n",
      "1498176/1498176 [==============================] - 41s 27us/step - loss: 15.5866\n",
      "Epoch 4/10\n",
      "1498176/1498176 [==============================] - 41s 27us/step - loss: 15.5866\n",
      "Epoch 5/10\n",
      "1498176/1498176 [==============================] - 41s 27us/step - loss: 15.5866\n",
      "Epoch 6/10\n",
      "1498176/1498176 [==============================] - 41s 27us/step - loss: 15.5866\n",
      "Epoch 7/10\n",
      "1498176/1498176 [==============================] - 41s 27us/step - loss: 15.5866\n",
      "Epoch 8/10\n",
      "1498176/1498176 [==============================] - 40s 27us/step - loss: 15.5866\n",
      "Epoch 9/10\n",
      "1498176/1498176 [==============================] - 40s 27us/step - loss: 15.5866\n",
      "Epoch 10/10\n",
      "1498176/1498176 [==============================] - 41s 27us/step - loss: 15.5866\n"
     ]
    }
   ],
   "source": [
    "new_graph = recreate_graph(graph)"
   ]
  },
  {
   "cell_type": "code",
   "execution_count": 4,
   "metadata": {},
   "outputs": [
    {
     "name": "stdout",
     "output_type": "stream",
     "text": [
      "Cannot compute average_shortest_path_length - Graph is not connected.\n",
      "Cannot compute diameter - Found infinite path length because the graph is not connected\n"
     ]
    },
    {
     "data": {
      "text/plain": [
       "OrderedDict([('degree_centrality',\n",
       "              Ks_2sampResult(statistic=0.51307189542483655, pvalue=9.0359556446084365e-142)),\n",
       "             ('closeness_centrality',\n",
       "              Ks_2sampResult(statistic=0.96895424836601307, pvalue=0.0)),\n",
       "             ('betweenness_centrality',\n",
       "              Ks_2sampResult(statistic=0.31699346405228757, pvalue=2.2227397187882964e-54)),\n",
       "             ('pagerank',\n",
       "              Ks_2sampResult(statistic=0.49428104575163401, pvalue=1.3172969127458594e-131)),\n",
       "             ('degree_centralization', 0.06734170105154404),\n",
       "             ('density', 0.018782150974997)])"
      ]
     },
     "execution_count": 4,
     "metadata": {},
     "output_type": "execute_result"
    }
   ],
   "source": [
    "from compare_graphs import get_graph_measurements, compare_measurements\n",
    "\n",
    "original_graph_measurements = get_graph_measurements(graph)\n",
    "recreated_graph_measurements = get_graph_measurements(new_graph)\n",
    "comparison = compare_measurements(original_graph_measurements, recreated_graph_measurements)\n",
    "comparison"
   ]
  },
  {
   "cell_type": "code",
   "execution_count": 5,
   "metadata": {},
   "outputs": [
    {
     "data": {
      "text/plain": [
       "{'betweenness_centrality': 0.0016557193961739076,\n",
       " 'closeness_centrality': 0.43028707047156817,\n",
       " 'degree_centrality': 0.08013082583810303,\n",
       " 'orientation': 'left-leaning',\n",
       " 'pagerank': 0.0022913121392024857}"
      ]
     },
     "execution_count": 5,
     "metadata": {},
     "output_type": "execute_result"
    }
   ],
   "source": [
    "graph.nodes[150]"
   ]
  }
 ],
 "metadata": {
  "kernelspec": {
   "display_name": "cna",
   "language": "python",
   "name": "cna"
  },
  "language_info": {
   "codemirror_mode": {
    "name": "ipython",
    "version": 3
   },
   "file_extension": ".py",
   "mimetype": "text/x-python",
   "name": "python",
   "nbconvert_exporter": "python",
   "pygments_lexer": "ipython3",
   "version": "3.6.3"
  }
 },
 "nbformat": 4,
 "nbformat_minor": 2
}

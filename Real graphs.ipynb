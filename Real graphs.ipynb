{
 "cells": [
  {
   "cell_type": "code",
   "execution_count": 1,
   "metadata": {},
   "outputs": [
    {
     "name": "stderr",
     "output_type": "stream",
     "text": [
      "Using TensorFlow backend.\n",
      "/home/smoq/.virtualenvs/cna/lib/python3.6/importlib/_bootstrap.py:219: RuntimeWarning: compiletime version 3.5 of module 'tensorflow.python.framework.fast_tensor_util' does not match runtime version 3.6\n",
      "  return f(*args, **kwds)\n"
     ]
    }
   ],
   "source": [
    "from load_real_graphs import (get_available_datasets, get_network_from_konect, CHOOSEN_DATASETS)\n",
    "from generate_graph import recreate_graph\n",
    "\n",
    "from graph import get_graph_measurements, compare_graph_measurements, print_comparison_results\n",
    "from recreate_graph import graph_to_dataframe, get_trained_model, recreate_by_priority_rank\n"
   ]
  },
  {
   "cell_type": "code",
   "execution_count": 2,
   "metadata": {},
   "outputs": [
    {
     "name": "stdout",
     "output_type": "stream",
     "text": [
      "skipping moreno_seventh - already exists\n",
      "skipping moreno_seventh - already exists\n",
      "Loading graph...\n",
      "Attaching attributes (graph measurements)...\n",
      "Attaching real attributes...\n"
     ]
    }
   ],
   "source": [
    "dataset_name = 'moreno_seventh'\n",
    "graph = get_network_from_konect(dataset_name)"
   ]
  },
  {
   "cell_type": "code",
   "execution_count": 3,
   "metadata": {},
   "outputs": [
    {
     "data": {
      "text/plain": [
       "{'betweenness_centrality': 0.03237684388631609,\n",
       " 'closeness_centrality': 0.9655172413793104,\n",
       " 'degree_centrality': 1.0357142857142856,\n",
       " 'gender': 'male',\n",
       " 'pagerank': 0.048327152998040294}"
      ]
     },
     "execution_count": 3,
     "metadata": {},
     "output_type": "execute_result"
    }
   ],
   "source": [
    "graph.nodes[0]"
   ]
  },
  {
   "cell_type": "code",
   "execution_count": 4,
   "metadata": {},
   "outputs": [],
   "source": [
    "df = graph_to_dataframe(graph)"
   ]
  },
  {
   "cell_type": "code",
   "execution_count": 5,
   "metadata": {},
   "outputs": [
    {
     "name": "stdout",
     "output_type": "stream",
     "text": [
      "Epoch 1/128\n",
      "841/841 [==============================] - 0s 76us/step - loss: 0.7331\n",
      "Epoch 2/128\n",
      "841/841 [==============================] - 0s 16us/step - loss: 0.7139\n",
      "Epoch 3/128\n",
      "841/841 [==============================] - 0s 18us/step - loss: 0.7002\n",
      "Epoch 4/128\n",
      "841/841 [==============================] - 0s 20us/step - loss: 0.6906\n",
      "Epoch 5/128\n",
      "841/841 [==============================] - 0s 13us/step - loss: 0.6830\n",
      "Epoch 6/128\n",
      "841/841 [==============================] - 0s 14us/step - loss: 0.6770\n",
      "Epoch 7/128\n",
      "841/841 [==============================] - 0s 16us/step - loss: 0.6721\n",
      "Epoch 8/128\n",
      "841/841 [==============================] - 0s 27us/step - loss: 0.6678\n",
      "Epoch 9/128\n",
      "841/841 [==============================] - 0s 18us/step - loss: 0.6633\n",
      "Epoch 10/128\n",
      "841/841 [==============================] - 0s 18us/step - loss: 0.6592\n",
      "Epoch 11/128\n",
      "841/841 [==============================] - 0s 15us/step - loss: 0.6550\n",
      "Epoch 12/128\n",
      "841/841 [==============================] - 0s 17us/step - loss: 0.6509\n",
      "Epoch 13/128\n",
      "841/841 [==============================] - 0s 13us/step - loss: 0.6472\n",
      "Epoch 14/128\n",
      "841/841 [==============================] - 0s 28us/step - loss: 0.6438\n",
      "Epoch 15/128\n",
      "841/841 [==============================] - 0s 17us/step - loss: 0.6407\n",
      "Epoch 16/128\n",
      "841/841 [==============================] - 0s 15us/step - loss: 0.6378\n",
      "Epoch 17/128\n",
      "841/841 [==============================] - 0s 21us/step - loss: 0.6348\n",
      "Epoch 18/128\n",
      "841/841 [==============================] - 0s 17us/step - loss: 0.6322\n",
      "Epoch 19/128\n",
      "841/841 [==============================] - 0s 17us/step - loss: 0.6294\n",
      "Epoch 20/128\n",
      "841/841 [==============================] - 0s 32us/step - loss: 0.6260\n",
      "Epoch 21/128\n",
      "841/841 [==============================] - 0s 17us/step - loss: 0.6221\n",
      "Epoch 22/128\n",
      "841/841 [==============================] - 0s 15us/step - loss: 0.6192\n",
      "Epoch 23/128\n",
      "841/841 [==============================] - 0s 20us/step - loss: 0.6156\n",
      "Epoch 24/128\n",
      "841/841 [==============================] - 0s 22us/step - loss: 0.6122\n",
      "Epoch 25/128\n",
      "841/841 [==============================] - 0s 18us/step - loss: 0.6087\n",
      "Epoch 26/128\n",
      "841/841 [==============================] - 0s 29us/step - loss: 0.6056\n",
      "Epoch 27/128\n",
      "841/841 [==============================] - 0s 13us/step - loss: 0.6023\n",
      "Epoch 28/128\n",
      "841/841 [==============================] - 0s 20us/step - loss: 0.5991\n",
      "Epoch 29/128\n",
      "841/841 [==============================] - 0s 17us/step - loss: 0.5964\n",
      "Epoch 30/128\n",
      "841/841 [==============================] - 0s 19us/step - loss: 0.5938\n",
      "Epoch 31/128\n",
      "841/841 [==============================] - 0s 20us/step - loss: 0.5915\n",
      "Epoch 32/128\n",
      "841/841 [==============================] - 0s 29us/step - loss: 0.5894\n",
      "Epoch 33/128\n",
      "841/841 [==============================] - 0s 15us/step - loss: 0.5873\n",
      "Epoch 34/128\n",
      "841/841 [==============================] - 0s 18us/step - loss: 0.5851\n",
      "Epoch 35/128\n",
      "841/841 [==============================] - 0s 19us/step - loss: 0.5830\n",
      "Epoch 36/128\n",
      "841/841 [==============================] - 0s 17us/step - loss: 0.5811\n",
      "Epoch 37/128\n",
      "841/841 [==============================] - 0s 18us/step - loss: 0.5792\n",
      "Epoch 38/128\n",
      "841/841 [==============================] - 0s 16us/step - loss: 0.5773\n",
      "Epoch 39/128\n",
      "841/841 [==============================] - 0s 37us/step - loss: 0.5753\n",
      "Epoch 40/128\n",
      "841/841 [==============================] - 0s 19us/step - loss: 0.5733\n",
      "Epoch 41/128\n",
      "841/841 [==============================] - 0s 21us/step - loss: 0.5713\n",
      "Epoch 42/128\n",
      "841/841 [==============================] - 0s 20us/step - loss: 0.5694\n",
      "Epoch 43/128\n",
      "841/841 [==============================] - 0s 35us/step - loss: 0.5675\n",
      "Epoch 44/128\n",
      "841/841 [==============================] - 0s 17us/step - loss: 0.5656\n",
      "Epoch 45/128\n",
      "841/841 [==============================] - 0s 20us/step - loss: 0.5636\n",
      "Epoch 46/128\n",
      "841/841 [==============================] - 0s 15us/step - loss: 0.5615\n",
      "Epoch 47/128\n",
      "841/841 [==============================] - 0s 15us/step - loss: 0.5595\n",
      "Epoch 48/128\n",
      "841/841 [==============================] - 0s 17us/step - loss: 0.5575\n",
      "Epoch 49/128\n",
      "841/841 [==============================] - 0s 28us/step - loss: 0.5554\n",
      "Epoch 50/128\n",
      "841/841 [==============================] - 0s 16us/step - loss: 0.5532\n",
      "Epoch 51/128\n",
      "841/841 [==============================] - 0s 19us/step - loss: 0.5511\n",
      "Epoch 52/128\n",
      "841/841 [==============================] - 0s 13us/step - loss: 0.5489\n",
      "Epoch 53/128\n",
      "841/841 [==============================] - 0s 25us/step - loss: 0.5467\n",
      "Epoch 54/128\n",
      "841/841 [==============================] - 0s 31us/step - loss: 0.5446\n",
      "Epoch 55/128\n",
      "841/841 [==============================] - 0s 18us/step - loss: 0.5424\n",
      "Epoch 56/128\n",
      "841/841 [==============================] - 0s 25us/step - loss: 0.5406\n",
      "Epoch 57/128\n",
      "841/841 [==============================] - 0s 23us/step - loss: 0.5385\n",
      "Epoch 58/128\n",
      "841/841 [==============================] - 0s 13us/step - loss: 0.5363\n",
      "Epoch 59/128\n",
      "841/841 [==============================] - 0s 19us/step - loss: 0.5344\n",
      "Epoch 60/128\n",
      "841/841 [==============================] - 0s 22us/step - loss: 0.5322\n",
      "Epoch 61/128\n",
      "841/841 [==============================] - 0s 15us/step - loss: 0.5302\n",
      "Epoch 62/128\n",
      "841/841 [==============================] - 0s 15us/step - loss: 0.5282\n",
      "Epoch 63/128\n",
      "841/841 [==============================] - 0s 14us/step - loss: 0.5260\n",
      "Epoch 64/128\n",
      "841/841 [==============================] - 0s 14us/step - loss: 0.5239\n",
      "Epoch 65/128\n",
      "841/841 [==============================] - 0s 20us/step - loss: 0.5219\n",
      "Epoch 66/128\n",
      "841/841 [==============================] - 0s 12us/step - loss: 0.5200\n",
      "Epoch 67/128\n",
      "841/841 [==============================] - 0s 28us/step - loss: 0.5178\n",
      "Epoch 68/128\n",
      "841/841 [==============================] - 0s 14us/step - loss: 0.5158\n",
      "Epoch 69/128\n",
      "841/841 [==============================] - 0s 15us/step - loss: 0.5139\n",
      "Epoch 70/128\n",
      "841/841 [==============================] - 0s 18us/step - loss: 0.5120\n",
      "Epoch 71/128\n",
      "841/841 [==============================] - 0s 15us/step - loss: 0.5098\n",
      "Epoch 72/128\n",
      "841/841 [==============================] - 0s 16us/step - loss: 0.5077\n",
      "Epoch 73/128\n",
      "841/841 [==============================] - 0s 13us/step - loss: 0.5055\n",
      "Epoch 74/128\n",
      "841/841 [==============================] - 0s 16us/step - loss: 0.5035\n",
      "Epoch 75/128\n",
      "841/841 [==============================] - 0s 15us/step - loss: 0.5015\n",
      "Epoch 76/128\n",
      "841/841 [==============================] - 0s 15us/step - loss: 0.4995\n",
      "Epoch 77/128\n",
      "841/841 [==============================] - 0s 14us/step - loss: 0.4974\n",
      "Epoch 78/128\n",
      "841/841 [==============================] - 0s 15us/step - loss: 0.4956\n",
      "Epoch 79/128\n",
      "841/841 [==============================] - 0s 17us/step - loss: 0.4936\n",
      "Epoch 80/128\n",
      "841/841 [==============================] - 0s 16us/step - loss: 0.4917\n",
      "Epoch 81/128\n",
      "841/841 [==============================] - 0s 15us/step - loss: 0.4897\n",
      "Epoch 82/128\n",
      "841/841 [==============================] - 0s 18us/step - loss: 0.4880\n",
      "Epoch 83/128\n",
      "841/841 [==============================] - 0s 14us/step - loss: 0.4860\n",
      "Epoch 84/128\n",
      "841/841 [==============================] - 0s 16us/step - loss: 0.4842\n",
      "Epoch 85/128\n",
      "841/841 [==============================] - 0s 16us/step - loss: 0.4824\n",
      "Epoch 86/128\n",
      "841/841 [==============================] - 0s 14us/step - loss: 0.4807\n",
      "Epoch 87/128\n",
      "841/841 [==============================] - 0s 19us/step - loss: 0.4790\n",
      "Epoch 88/128\n",
      "841/841 [==============================] - 0s 13us/step - loss: 0.4777\n",
      "Epoch 89/128\n",
      "841/841 [==============================] - 0s 25us/step - loss: 0.4759\n",
      "Epoch 90/128\n",
      "841/841 [==============================] - 0s 14us/step - loss: 0.4744\n",
      "Epoch 91/128\n",
      "841/841 [==============================] - 0s 16us/step - loss: 0.4727\n",
      "Epoch 92/128\n",
      "841/841 [==============================] - 0s 18us/step - loss: 0.4712\n",
      "Epoch 93/128\n",
      "841/841 [==============================] - 0s 14us/step - loss: 0.4695\n",
      "Epoch 94/128\n",
      "841/841 [==============================] - 0s 17us/step - loss: 0.4679\n",
      "Epoch 95/128\n",
      "841/841 [==============================] - 0s 15us/step - loss: 0.4664\n",
      "Epoch 96/128\n",
      "841/841 [==============================] - 0s 15us/step - loss: 0.4649\n",
      "Epoch 97/128\n",
      "841/841 [==============================] - 0s 13us/step - loss: 0.4635\n",
      "Epoch 98/128\n"
     ]
    },
    {
     "name": "stdout",
     "output_type": "stream",
     "text": [
      "841/841 [==============================] - 0s 15us/step - loss: 0.4618\n",
      "Epoch 99/128\n",
      "841/841 [==============================] - 0s 17us/step - loss: 0.4603\n",
      "Epoch 100/128\n",
      "841/841 [==============================] - 0s 14us/step - loss: 0.4589\n",
      "Epoch 101/128\n",
      "841/841 [==============================] - 0s 29us/step - loss: 0.4576\n",
      "Epoch 102/128\n",
      "841/841 [==============================] - 0s 20us/step - loss: 0.4562\n",
      "Epoch 103/128\n",
      "841/841 [==============================] - 0s 14us/step - loss: 0.4549\n",
      "Epoch 104/128\n",
      "841/841 [==============================] - 0s 14us/step - loss: 0.4535\n",
      "Epoch 105/128\n",
      "841/841 [==============================] - 0s 12us/step - loss: 0.4521\n",
      "Epoch 106/128\n",
      "841/841 [==============================] - 0s 14us/step - loss: 0.4509\n",
      "Epoch 107/128\n",
      "841/841 [==============================] - 0s 19us/step - loss: 0.4496\n",
      "Epoch 108/128\n",
      "841/841 [==============================] - 0s 16us/step - loss: 0.4485\n",
      "Epoch 109/128\n",
      "841/841 [==============================] - 0s 15us/step - loss: 0.4473\n",
      "Epoch 110/128\n",
      "841/841 [==============================] - 0s 17us/step - loss: 0.4461\n",
      "Epoch 111/128\n",
      "841/841 [==============================] - 0s 17us/step - loss: 0.4449\n",
      "Epoch 112/128\n",
      "841/841 [==============================] - 0s 14us/step - loss: 0.4439\n",
      "Epoch 113/128\n",
      "841/841 [==============================] - 0s 16us/step - loss: 0.4427\n",
      "Epoch 114/128\n",
      "841/841 [==============================] - 0s 15us/step - loss: 0.4415\n",
      "Epoch 115/128\n",
      "841/841 [==============================] - 0s 14us/step - loss: 0.4407\n",
      "Epoch 116/128\n",
      "841/841 [==============================] - 0s 16us/step - loss: 0.4392\n",
      "Epoch 117/128\n",
      "841/841 [==============================] - 0s 24us/step - loss: 0.4383\n",
      "Epoch 118/128\n",
      "841/841 [==============================] - 0s 19us/step - loss: 0.4371\n",
      "Epoch 119/128\n",
      "841/841 [==============================] - 0s 17us/step - loss: 0.4359\n",
      "Epoch 120/128\n",
      "841/841 [==============================] - 0s 16us/step - loss: 0.4349\n",
      "Epoch 121/128\n",
      "841/841 [==============================] - 0s 14us/step - loss: 0.4338\n",
      "Epoch 122/128\n",
      "841/841 [==============================] - 0s 15us/step - loss: 0.4331\n",
      "Epoch 123/128\n",
      "841/841 [==============================] - 0s 23us/step - loss: 0.4320\n",
      "Epoch 124/128\n",
      "841/841 [==============================] - 0s 14us/step - loss: 0.4310\n",
      "Epoch 125/128\n",
      "841/841 [==============================] - 0s 13us/step - loss: 0.4302\n",
      "Epoch 126/128\n",
      "841/841 [==============================] - 0s 11us/step - loss: 0.4295\n",
      "Epoch 127/128\n",
      "841/841 [==============================] - 0s 16us/step - loss: 0.4284\n",
      "Epoch 128/128\n",
      "841/841 [==============================] - 0s 15us/step - loss: 0.4275\n"
     ]
    }
   ],
   "source": [
    "model = get_trained_model(df)"
   ]
  },
  {
   "cell_type": "code",
   "execution_count": 6,
   "metadata": {},
   "outputs": [],
   "source": [
    "new_graph = recreate_by_priority_rank(graph, df, model)"
   ]
  },
  {
   "cell_type": "code",
   "execution_count": 7,
   "metadata": {},
   "outputs": [],
   "source": [
    "graph_measurements = get_graph_measurements(graph)\n",
    "new_graph_measurements = get_graph_measurements(new_graph)\n",
    "\n",
    "comparison = compare_graph_measurements(graph_measurements, new_graph_measurements)"
   ]
  },
  {
   "cell_type": "code",
   "execution_count": 8,
   "metadata": {},
   "outputs": [
    {
     "name": "stdout",
     "output_type": "stream",
     "text": [
      "(KS test p-value)  degree_centrality: 0.009388569191              [passed: False]\n",
      "(KS test p-value)  closeness_centrality: 0.003701331986           [passed: False]\n",
      "(KS test p-value)  betweenness_centrality: 0.098002397010         [passed: True]\n",
      "(KS test p-value)  pagerank: 0.184429542118                       [passed: True]\n",
      "(abs distance)     average_shortest_path_length: 0.084112149533   [passed: False]\n",
      "(abs distance)     diameter: 0.000000000000                       [passed: True]\n",
      "(abs distance)     degree_centralization: 0.407526881720          [passed: False]\n",
      "(abs distance)     density: 0.135714285714                        [passed: False]\n"
     ]
    }
   ],
   "source": [
    "print_comparison_results(comparison)"
   ]
  },
  {
   "cell_type": "code",
   "execution_count": 9,
   "metadata": {},
   "outputs": [
    {
     "data": {
      "text/plain": [
       "280"
      ]
     },
     "execution_count": 9,
     "metadata": {},
     "output_type": "execute_result"
    }
   ],
   "source": [
    "graph.number_of_edges()"
   ]
  },
  {
   "cell_type": "code",
   "execution_count": 10,
   "metadata": {},
   "outputs": [
    {
     "data": {
      "text/plain": [
       "242"
      ]
     },
     "execution_count": 10,
     "metadata": {},
     "output_type": "execute_result"
    }
   ],
   "source": [
    "new_graph.number_of_edges()"
   ]
  }
 ],
 "metadata": {
  "kernelspec": {
   "display_name": "cna",
   "language": "python",
   "name": "cna"
  },
  "language_info": {
   "codemirror_mode": {
    "name": "ipython",
    "version": 3
   },
   "file_extension": ".py",
   "mimetype": "text/x-python",
   "name": "python",
   "nbconvert_exporter": "python",
   "pygments_lexer": "ipython3",
   "version": "3.6.3"
  }
 },
 "nbformat": 4,
 "nbformat_minor": 2
}

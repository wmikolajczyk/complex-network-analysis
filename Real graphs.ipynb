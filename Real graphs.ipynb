{
 "cells": [
  {
   "cell_type": "code",
   "execution_count": 1,
   "metadata": {},
   "outputs": [
    {
     "name": "stderr",
     "output_type": "stream",
     "text": [
      "Using TensorFlow backend.\n",
      "/home/smoq/.virtualenvs/cna/lib/python3.6/importlib/_bootstrap.py:219: RuntimeWarning: compiletime version 3.5 of module 'tensorflow.python.framework.fast_tensor_util' does not match runtime version 3.6\n",
      "  return f(*args, **kwds)\n"
     ]
    }
   ],
   "source": [
    "from graph import attach_graph_attributes, get_graph_measurements, compare_graph_measurements, print_comparison_results\n",
    "\n",
    "from recreate_graph import graph_to_dataframe, get_trained_model, recreate_by_priority_rank\n",
    "\n",
    "from real_graph import get_available_datasets, download_dataset, extract_dataset, load_graph, attach_real_attributes"
   ]
  },
  {
   "cell_type": "code",
   "execution_count": 2,
   "metadata": {},
   "outputs": [],
   "source": [
    "available_datasets = get_available_datasets()"
   ]
  },
  {
   "cell_type": "code",
   "execution_count": 3,
   "metadata": {},
   "outputs": [],
   "source": [
    "EPOCHS = 256\n",
    "BATCH_SIZE = 16\n",
    "VERBOSE = 0"
   ]
  },
  {
   "cell_type": "code",
   "execution_count": 4,
   "metadata": {},
   "outputs": [],
   "source": [
    "import time\n",
    "# start time\n",
    "start = time.time()"
   ]
  },
  {
   "cell_type": "code",
   "execution_count": 5,
   "metadata": {
    "scrolled": true
   },
   "outputs": [
    {
     "name": "stdout",
     "output_type": "stream",
     "text": [
      "Skipping download moreno_seventh - already exists\n",
      "Skipping extracting moreno_seventh - already exists\n"
     ]
    }
   ],
   "source": [
    "dataset_name = 'moreno_seventh'\n",
    "\n",
    "archive_filepath = download_dataset(dataset_name, available_datasets)\n",
    "if archive_filepath:\n",
    "    network_filepath = extract_dataset(dataset_name, archive_filepath)\n",
    "    graph = load_graph(network_filepath)\n",
    "    attach_graph_attributes(graph)\n",
    "    \n",
    "    df = graph_to_dataframe(graph)\n",
    "    model = get_trained_model(df, epochs=EPOCHS, batch_size=BATCH_SIZE, verbose=VERBOSE)\n",
    "    \n",
    "    new_graph = recreate_by_priority_rank(graph, df, model)\n",
    "    \n",
    "    graph_measurements = get_graph_measurements(graph)\n",
    "    new_graph_measurements = get_graph_measurements(new_graph)\n",
    "    \n",
    "    comparison = compare_graph_measurements(graph_measurements, new_graph_measurements)"
   ]
  },
  {
   "cell_type": "code",
   "execution_count": 6,
   "metadata": {},
   "outputs": [],
   "source": [
    "attach_real_attributes(graph, network_filepath)\n",
    "df = graph_to_dataframe(graph)\n",
    "model = get_trained_model(df, epochs=EPOCHS, batch_size=BATCH_SIZE, verbose=VERBOSE)\n",
    "\n",
    "new_graph = recreate_by_priority_rank(graph, df, model)\n",
    "\n",
    "graph_measurements = get_graph_measurements(graph)\n",
    "new_graph_measurements = get_graph_measurements(new_graph)\n",
    "\n",
    "comparison_with_real_attributes = compare_graph_measurements(graph_measurements, new_graph_measurements)"
   ]
  },
  {
   "cell_type": "code",
   "execution_count": 7,
   "metadata": {},
   "outputs": [
    {
     "name": "stdout",
     "output_type": "stream",
     "text": [
      "execution time: 19.43s\n"
     ]
    }
   ],
   "source": [
    "# end time\n",
    "end = time.time()\n",
    "print('execution time: {}s'.format(round(end - start, 2)))"
   ]
  },
  {
   "cell_type": "code",
   "execution_count": 8,
   "metadata": {},
   "outputs": [
    {
     "name": "stdout",
     "output_type": "stream",
     "text": [
      "(KS test p-value)  degree_centrality: 0.00370133198605959             [passed: False]\n",
      "(KS test p-value)  closeness_centrality: 0.0004601053442009108        [passed: False]\n",
      "(KS test p-value)  betweenness_centrality: 0.009388569190992901       [passed: False]\n",
      "(KS test p-value)  pagerank: 0.3212846258050444                       [passed: True]\n",
      "(abs distance)     average_shortest_path_length: 0.08971962616822436  [passed: True]\n",
      "(abs distance)     diameter: 0.0                                      [passed: True]\n",
      "(abs distance)     degree_centralization: 0.37677419354838665         [passed: False]\n",
      "(abs distance)     closeness_centralization: 0.3953450235457567       [passed: False]\n",
      "(abs distance)     betweenness_centralization: 0.09921798674244174    [passed: True]\n",
      "(abs distance)     pagerank_centralization: 0.39723057974171616       [passed: False]\n",
      "(abs distance)     clustering_centralization: 0.19003011028142056     [passed: False]\n",
      "(abs distance)     density: 0.13928571428571435                       [passed: False]\n",
      "(abs distance)     degree_assortativity: 0.22037685505599006          [passed: False]\n",
      "(abs distance)     reciprocity: None                                  [passed: None]\n",
      "(abs distance)     transitivity: 0.21698333835563255                  [passed: False]\n",
      "\n",
      "With real attributes\n",
      "\n",
      "(KS test p-value)  degree_centrality: 0.009388569190992936            [passed: False]\n",
      "(KS test p-value)  closeness_centrality: 0.009388569190992936         [passed: False]\n",
      "(KS test p-value)  betweenness_centrality: 0.04831235649763415        [passed: False]\n",
      "(KS test p-value)  pagerank: 0.09800239701021934                      [passed: True]\n",
      "(abs distance)     average_shortest_path_length: 0.08224299065420568  [passed: True]\n",
      "(abs distance)     diameter: 0.0                                      [passed: True]\n",
      "(abs distance)     degree_centralization: 0.4118845500848901          [passed: False]\n",
      "(abs distance)     closeness_centralization: 0.3695299576204186       [passed: False]\n",
      "(abs distance)     betweenness_centralization: 0.066418112283123      [passed: True]\n",
      "(abs distance)     pagerank_centralization: 0.43883672480353225       [passed: False]\n",
      "(abs distance)     clustering_centralization: 0.2739553322779038      [passed: False]\n",
      "(abs distance)     density: 0.12142857142857143                       [passed: False]\n",
      "(abs distance)     degree_assortativity: 0.15787207214903204          [passed: False]\n",
      "(abs distance)     reciprocity: None                                  [passed: None]\n",
      "(abs distance)     transitivity: 0.20608986813277672                  [passed: False]\n"
     ]
    }
   ],
   "source": [
    "print_comparison_results(comparison)\n",
    "print('\\nWith real attributes\\n')\n",
    "print_comparison_results(comparison_with_real_attributes)"
   ]
  },
  {
   "cell_type": "code",
   "execution_count": 9,
   "metadata": {},
   "outputs": [
    {
     "data": {
      "text/plain": [
       "<matplotlib.figure.Figure at 0x7f60842a40f0>"
      ]
     },
     "metadata": {},
     "output_type": "display_data"
    },
    {
     "data": {
      "text/plain": [
       "<matplotlib.figure.Figure at 0x7f606c407588>"
      ]
     },
     "metadata": {},
     "output_type": "display_data"
    }
   ],
   "source": [
    "import matplotlib.pyplot as plt\n",
    "import networkx as nx\n",
    "\n",
    "plt.figure(1)\n",
    "nx.draw(graph, with_labels=True)\n",
    "plt.figure(2)\n",
    "nx.draw(new_graph, with_labels=True)\n",
    "plt.show()"
   ]
  }
 ],
 "metadata": {
  "kernelspec": {
   "display_name": "cna",
   "language": "python",
   "name": "cna"
  },
  "language_info": {
   "codemirror_mode": {
    "name": "ipython",
    "version": 3
   },
   "file_extension": ".py",
   "mimetype": "text/x-python",
   "name": "python",
   "nbconvert_exporter": "python",
   "pygments_lexer": "ipython3",
   "version": "3.6.3"
  }
 },
 "nbformat": 4,
 "nbformat_minor": 2
}

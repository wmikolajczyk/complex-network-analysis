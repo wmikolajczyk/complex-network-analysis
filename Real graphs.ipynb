{
 "cells": [
  {
   "cell_type": "code",
   "execution_count": 1,
   "metadata": {},
   "outputs": [
    {
     "name": "stderr",
     "output_type": "stream",
     "text": [
      "Using TensorFlow backend.\n"
     ]
    }
   ],
   "source": [
    "import os\n",
    "import pandas as pd\n",
    "\n",
    "import matplotlib.pyplot as plt\n",
    "\n",
    "from graphs import load_dataset_to_graph\n",
    "from recreate_graph import get_trained_model, recreate_by_priority_rank\n",
    "from measurements import get_graph_measurements, compare_graph_measurements, print_comparison_results"
   ]
  },
  {
   "cell_type": "code",
   "execution_count": 2,
   "metadata": {},
   "outputs": [
    {
     "name": "stdout",
     "output_type": "stream",
     "text": [
      "\n",
      "Processing highschool_2011\n",
      "Epoch 1/4\n",
      "15876/15876 [==============================] - 0s 26us/step - loss: 0.0767 - acc: 0.7832\n",
      "Epoch 2/4\n",
      "15876/15876 [==============================] - 0s 24us/step - loss: 0.0103 - acc: 0.7846\n",
      "Epoch 3/4\n",
      "15876/15876 [==============================] - 0s 22us/step - loss: 0.0045 - acc: 0.7846\n",
      "Epoch 4/4\n",
      "15876/15876 [==============================] - 0s 27us/step - loss: 0.0029 - acc: 0.7846\n",
      "15876/15876 [==============================] - 0s 25us/step\n",
      "loss: 0.0024753685925192484, accuracy: 0.7846434870244394\n"
     ]
    },
    {
     "data": {
      "image/png": "[encoded data removed]",
      "text/plain": [
       "<matplotlib.figure.Figure at 0x7efc8406b978>"
      ]
     },
     "metadata": {},
     "output_type": "display_data"
    },
    {
     "data": {
      "image/png": "[encoded data removed]",
      "text/plain": [
       "<matplotlib.figure.Figure at 0x7efc8404fb38>"
      ]
     },
     "metadata": {},
     "output_type": "display_data"
    },
    {
     "name": "stdout",
     "output_type": "stream",
     "text": [
      "0\n",
      "1\n"
     ]
    },
    {
     "name": "stderr",
     "output_type": "stream",
     "text": [
      "/home/smoq/.virtualenvs/cna/lib/python3.5/site-packages/networkx/algorithms/assortativity/correlation.py:287: RuntimeWarning: divide by zero encountered in double_scalars\n",
      "  return (xy*(M-ab)).sum()/numpy.sqrt(vara*varb)\n"
     ]
    },
    {
     "name": "stdout",
     "output_type": "stream",
     "text": [
      "2\n",
      "3\n",
      "4\n",
      "5\n",
      "6\n",
      "7\n",
      "8\n",
      "9\n"
     ]
    }
   ],
   "source": [
    "prepared_datasets_path = 'prepared_datasets'\n",
    "prepared_dataframes_path = 'prepared_dataframes'\n",
    "delimiter = '\\t'\n",
    "\n",
    "prepared_dataset_names = [\n",
    "    #'primary_school', 'workplace', \n",
    "    'highschool_2011', #'highschool_2012', 'hospital', \n",
    "    #'moreno_blogs', 'moreno_sheep', 'moreno_seventh'\n",
    "]\n",
    "prepare_big_dataset_names = [\n",
    "    'petster-hamster', 'email-Eu'\n",
    "]\n",
    "comparison_list = []\n",
    "for dataset_name in prepared_dataset_names:\n",
    "    print('\\nProcessing {}'.format(dataset_name))\n",
    "    dataset_path = os.path.join(prepared_datasets_path, dataset_name)\n",
    "    dataframe_path = os.path.join(prepared_dataframes_path, dataset_name)\n",
    "    \n",
    "    graph = load_dataset_to_graph(dataset_path, node_limit=500)\n",
    "    \n",
    "    graph_real_attrs_dataframe_path = os.path.join(dataframe_path, 'graph_real_attrs.csv')\n",
    "    df = pd.read_csv(graph_real_attrs_dataframe_path, delimiter=delimiter)\n",
    "    \n",
    "    model = get_trained_model(df, epochs=4)\n",
    "    # drop target column\n",
    "    X_test = df.drop(['num_of_edges'], axis=1)\n",
    "    # predict num_edges\n",
    "    y_pred = model.predict(X_test)\n",
    "    # show predictions and real target values\n",
    "    plt.figure(1)\n",
    "    plt.plot(y_pred)\n",
    "    plt.figure(2)\n",
    "    plt.plot(df[['num_of_edges']])\n",
    "    plt.show()\n",
    "    for i in range(10):\n",
    "        print(i)\n",
    "        new_graph = recreate_by_priority_rank(graph, y_pred)\n",
    "\n",
    "        graph_measurements = get_graph_measurements(graph)\n",
    "        new_graph_measurements = get_graph_measurements(new_graph)\n",
    "        comparison = compare_graph_measurements(graph_measurements, new_graph_measurements)\n",
    "        comparison_list.append(comparison)\n",
    "    #print_comparison_results(comparison)\n",
    "    "
   ]
  },
  {
   "cell_type": "code",
   "execution_count": 8,
   "metadata": {},
   "outputs": [],
   "source": [
    "# calculate average of comparisons\n",
    "avg_dict = comparison_list[0].copy()\n",
    "\n",
    "for comparison in comparison_list[1:]:\n",
    "    for key in avg_dict:\n",
    "        avg_dict[key] += comparison[key]\n",
    "        \n",
    "for key in avg_dict:\n",
    "    avg_dict[key] /= len(comparison_list)"
   ]
  },
  {
   "cell_type": "code",
   "execution_count": 10,
   "metadata": {},
   "outputs": [
    {
     "name": "stdout",
     "output_type": "stream",
     "text": [
      "(KS test p-value)  degree_centrality: 0.0017013869097141914           [passed: False]\n",
      "(KS test p-value)  closeness_centrality: 0.0009537207483918478        [passed: False]\n",
      "(KS test p-value)  betweenness_centrality: 6.636566224570424e-05      [passed: False]\n",
      "(KS test p-value)  pagerank: 1.4431958533348463e-05                   [passed: False]\n",
      "(abs distance)     average_shortest_path_length: 0.06379962192816636  [passed: True]\n",
      "(abs distance)     diameter: 0.25                                     [passed: False]\n",
      "(abs distance)     degree_centralization: 0.5347400826988377          [passed: False]\n",
      "(abs distance)     closeness_centralization: 0.5420648773071528       [passed: False]\n",
      "(abs distance)     betweenness_centralization: 0.03288798712979958    [passed: True]\n",
      "(abs distance)     pagerank_centralization: 0.5596646464428143        [passed: False]\n",
      "(abs distance)     density: 0.004972214097689334                      [passed: True]\n",
      "(abs distance)     degree_assortativity: inf                          [passed: False]\n",
      "(abs distance)     reciprocity: 0.7833581526579381                    [passed: False]\n",
      "(abs distance)     transitivity: 0.2311897535709885                   [passed: False]\n"
     ]
    }
   ],
   "source": [
    "print_comparison_results(avg_dict)"
   ]
  }
 ],
 "metadata": {
  "kernelspec": {
   "display_name": "cna",
   "language": "python",
   "name": "cna"
  },
  "language_info": {
   "codemirror_mode": {
    "name": "ipython",
    "version": 3
   },
   "file_extension": ".py",
   "mimetype": "text/x-python",
   "name": "python",
   "nbconvert_exporter": "python",
   "pygments_lexer": "ipython3",
   "version": "3.5.2"
  }
 },
 "nbformat": 4,
 "nbformat_minor": 2
}

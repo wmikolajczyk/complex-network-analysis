{
 "cells": [
  {
   "cell_type": "code",
   "execution_count": 1,
   "metadata": {},
   "outputs": [
    {
     "name": "stderr",
     "output_type": "stream",
     "text": [
      "Using TensorFlow backend.\n"
     ]
    }
   ],
   "source": [
    "import os\n",
    "import pandas as pd\n",
    "\n",
    "import matplotlib.pyplot as plt\n",
    "\n",
    "from graphs import load_dataset_to_graph\n",
    "from recreate_graph import get_trained_model, recreate_by_priority_rank\n",
    "from measurements import get_graph_measurements, compare_graph_measurements, print_comparison_results"
   ]
  },
  {
   "cell_type": "code",
   "execution_count": 2,
   "metadata": {},
   "outputs": [
    {
     "name": "stdout",
     "output_type": "stream",
     "text": [
      "\n",
      "Processing highschool_2011\n",
      "Epoch 1/4\n",
      "15876/15876 [==============================] - 0s 23us/step - loss: 0.0767 - acc: 0.7832\n",
      "Epoch 2/4\n",
      "15876/15876 [==============================] - 0s 19us/step - loss: 0.0103 - acc: 0.7846\n",
      "Epoch 3/4\n",
      "15876/15876 [==============================] - 0s 19us/step - loss: 0.0045 - acc: 0.7846\n",
      "Epoch 4/4\n",
      "15876/15876 [==============================] - 0s 19us/step - loss: 0.0029 - acc: 0.7846\n",
      "15876/15876 [==============================] - 1s 41us/step\n",
      "loss: 0.0024753874808392195, accuracy: 0.7846434870244394\n"
     ]
    },
    {
     "data": {
      "image/png": "[encoded data removed]",
      "text/plain": [
       "<matplotlib.figure.Figure at 0x7f9224b32e80>"
      ]
     },
     "metadata": {},
     "output_type": "display_data"
    },
    {
     "data": {
      "image/png": "[encoded data removed]",
      "text/plain": [
       "<matplotlib.figure.Figure at 0x7f922090da58>"
      ]
     },
     "metadata": {},
     "output_type": "display_data"
    },
    {
     "name": "stdout",
     "output_type": "stream",
     "text": [
      "0\n",
      "1\n"
     ]
    },
    {
     "name": "stderr",
     "output_type": "stream",
     "text": [
      "/home/smoq/.virtualenvs/cna/lib/python3.5/site-packages/networkx/algorithms/assortativity/correlation.py:287: RuntimeWarning: divide by zero encountered in double_scalars\n",
      "  return (xy*(M-ab)).sum()/numpy.sqrt(vara*varb)\n"
     ]
    },
    {
     "name": "stdout",
     "output_type": "stream",
     "text": [
      "2\n",
      "3\n",
      "4\n",
      "5\n"
     ]
    },
    {
     "name": "stderr",
     "output_type": "stream",
     "text": [
      "/home/smoq/.virtualenvs/cna/lib/python3.5/site-packages/networkx/algorithms/assortativity/correlation.py:287: RuntimeWarning: invalid value encountered in sqrt\n",
      "  return (xy*(M-ab)).sum()/numpy.sqrt(vara*varb)\n"
     ]
    },
    {
     "name": "stdout",
     "output_type": "stream",
     "text": [
      "6\n"
     ]
    },
    {
     "name": "stderr",
     "output_type": "stream",
     "text": [
      "/home/smoq/.virtualenvs/cna/lib/python3.5/site-packages/networkx/algorithms/assortativity/correlation.py:287: RuntimeWarning: invalid value encountered in double_scalars\n",
      "  return (xy*(M-ab)).sum()/numpy.sqrt(vara*varb)\n"
     ]
    },
    {
     "name": "stdout",
     "output_type": "stream",
     "text": [
      "7\n",
      "8\n",
      "9\n"
     ]
    }
   ],
   "source": [
    "prepared_datasets_path = 'prepared_datasets'\n",
    "prepared_dataframes_path = 'prepared_dataframes'\n",
    "delimiter = '\\t'\n",
    "\n",
    "prepared_dataset_names = [\n",
    "    #'primary_school', 'workplace', \n",
    "    'highschool_2011', #'highschool_2012', 'hospital', \n",
    "    #'moreno_blogs', 'moreno_sheep', 'moreno_seventh'\n",
    "]\n",
    "prepare_big_dataset_names = [\n",
    "    'petster-hamster', 'email-Eu'\n",
    "]\n",
    "comparison_list = []\n",
    "for dataset_name in prepared_dataset_names:\n",
    "    print('\\nProcessing {}'.format(dataset_name))\n",
    "    dataset_path = os.path.join(prepared_datasets_path, dataset_name)\n",
    "    dataframe_path = os.path.join(prepared_dataframes_path, dataset_name)\n",
    "    \n",
    "    graph = load_dataset_to_graph(dataset_path, node_limit=500)\n",
    "    \n",
    "    graph_real_attrs_dataframe_path = os.path.join(dataframe_path, 'graph_real_attrs.csv')\n",
    "    df = pd.read_csv(graph_real_attrs_dataframe_path, delimiter=delimiter)\n",
    "    \n",
    "    model = get_trained_model(df, epochs=4)\n",
    "    # drop target column\n",
    "    X_test = df.drop(['num_of_edges'], axis=1)\n",
    "    # predict num_edges\n",
    "    y_pred = model.predict(X_test)\n",
    "    # show predictions and real target values\n",
    "    plt.figure(1)\n",
    "    plt.plot(y_pred)\n",
    "    plt.figure(2)\n",
    "    plt.plot(df[['num_of_edges']])\n",
    "    plt.show()\n",
    "    for i in range(10):\n",
    "        print(i)\n",
    "        new_graph = recreate_by_priority_rank(graph, y_pred)\n",
    "\n",
    "        graph_measurements = get_graph_measurements(graph)\n",
    "        new_graph_measurements = get_graph_measurements(new_graph)\n",
    "        comparison = compare_graph_measurements(graph_measurements, new_graph_measurements)\n",
    "        comparison_list.append(comparison)\n",
    "    #print_comparison_results(comparison)\n",
    "    "
   ]
  },
  {
   "cell_type": "code",
   "execution_count": 5,
   "metadata": {},
   "outputs": [
    {
     "data": {
      "text/plain": [
       "[OrderedDict([('degree_centrality', 0.0012399744450185212),\n",
       "              ('closeness_centrality', 0.00075163598658834602),\n",
       "              ('betweenness_centrality', 7.5885154889784956e-06),\n",
       "              ('pagerank', 3.9682526029093894e-06),\n",
       "              ('average_shortest_path_length', 0.06691219607587515),\n",
       "              ('diameter', 0.25),\n",
       "              ('degree_centralization', 0.5503878566522026),\n",
       "              ('closeness_centralization', 0.5835779349408062),\n",
       "              ('betweenness_centralization', 0.024493261959203722),\n",
       "              ('pagerank_centralization', 0.5677309332934143),\n",
       "              ('density', 0.004972214097689335),\n",
       "              ('degree_assortativity', 0.99999989106079812),\n",
       "              ('reciprocity', 0.7800650083986668),\n",
       "              ('transitivity', 0.23672376480416318)]),\n",
       " OrderedDict([('degree_centrality', 0.00026291363523941585),\n",
       "              ('closeness_centrality', 0.0020122867425347471),\n",
       "              ('betweenness_centrality', 4.8090704592291638e-05),\n",
       "              ('pagerank', 4.8090704592291638e-05),\n",
       "              ('average_shortest_path_length', 0.06107815657388696),\n",
       "              ('diameter', 0.25),\n",
       "              ('degree_centralization', 0.5374679578467675),\n",
       "              ('closeness_centralization', 0.5910603028267047),\n",
       "              ('betweenness_centralization', 0.025664569824515145),\n",
       "              ('pagerank_centralization', 0.5671671212161803),\n",
       "              ('density', 0.004972214097689335),\n",
       "              ('degree_assortativity', inf),\n",
       "              ('reciprocity', 0.7812411313484066),\n",
       "              ('transitivity', 0.2259869106969684)]),\n",
       " OrderedDict([('degree_centrality', 0.0020122867425347471),\n",
       "              ('closeness_centrality', 0.00026291363523941585),\n",
       "              ('betweenness_centrality', 1.4275334770461814e-05),\n",
       "              ('pagerank', 1.4275334770461814e-05),\n",
       "              ('average_shortest_path_length', 0.06528257610325278),\n",
       "              ('diameter', 0.25),\n",
       "              ('degree_centralization', 0.5503878566522021),\n",
       "              ('closeness_centralization', 0.488079577869049),\n",
       "              ('betweenness_centralization', 0.0228009256090368),\n",
       "              ('pagerank_centralization', 0.5505195457173083),\n",
       "              ('density', 0.004972214097689335),\n",
       "              ('degree_assortativity', 1.0000001108630074),\n",
       "              ('reciprocity', 0.7830053157730162),\n",
       "              ('transitivity', 0.2625005420538432)]),\n",
       " OrderedDict([('degree_centrality', 0.0077938672650079508),\n",
       "              ('closeness_centrality', 0.0020122867425347471),\n",
       "              ('betweenness_centrality', 0.00026291363523941585),\n",
       "              ('pagerank', 7.5885154889784684e-06),\n",
       "              ('average_shortest_path_length', 0.06182778176129322),\n",
       "              ('diameter', 0.25),\n",
       "              ('degree_centralization', 0.5122635650951808),\n",
       "              ('closeness_centralization', 0.4915236937210956),\n",
       "              ('betweenness_centralization', 0.06656604758542749),\n",
       "              ('pagerank_centralization', 0.5532382181624077),\n",
       "              ('density', 0.004972214097689335),\n",
       "              ('degree_assortativity', inf),\n",
       "              ('reciprocity', 0.7859456231473655),\n",
       "              ('transitivity', 0.23253804656424248)]),\n",
       " OrderedDict([('degree_centrality', 0.0012399744450185212),\n",
       "              ('closeness_centrality', 0.00044820258470025049),\n",
       "              ('betweenness_centrality', 4.8090704592291638e-05),\n",
       "              ('pagerank', 1.4275334770461814e-05),\n",
       "              ('average_shortest_path_length', 0.06127371097060164),\n",
       "              ('diameter', 0.25),\n",
       "              ('degree_centralization', 0.5278539111270909),\n",
       "              ('closeness_centralization', 0.4805636460246117),\n",
       "              ('betweenness_centralization', 0.00838709407050014),\n",
       "              ('pagerank_centralization', 0.5412479295125806),\n",
       "              ('density', 0.004972214097689335),\n",
       "              ('degree_assortativity', inf),\n",
       "              ('reciprocity', 0.7788888854489271),\n",
       "              ('transitivity', 0.23679796513303028)]),\n",
       " OrderedDict([('degree_centrality', 8.6120491909278727e-05),\n",
       "              ('closeness_centrality', 0.00075163598658834602),\n",
       "              ('betweenness_centrality', 8.6120491909279025e-05),\n",
       "              ('pagerank', 2.6417258144965769e-05),\n",
       "              ('average_shortest_path_length', 0.06254481454924712),\n",
       "              ('diameter', 0.25),\n",
       "              ('degree_centralization', 0.5278539111270907),\n",
       "              ('closeness_centralization', 0.5408088477700819),\n",
       "              ('betweenness_centralization', 0.06510244345381275),\n",
       "              ('pagerank_centralization', 0.5589786830597003),\n",
       "              ('density', 0.004972214097689335),\n",
       "              ('degree_assortativity', nan),\n",
       "              ('reciprocity', 0.7865336846222354),\n",
       "              ('transitivity', 0.22385839115901038)]),\n",
       " OrderedDict([('degree_centrality', 0.0032124690911688658),\n",
       "              ('closeness_centrality', 0.00044820258470025049),\n",
       "              ('betweenness_centrality', 4.8090704592291638e-05),\n",
       "              ('pagerank', 7.5885154889784684e-06),\n",
       "              ('average_shortest_path_length', 0.06697738087477997),\n",
       "              ('diameter', 0.25),\n",
       "              ('degree_centralization', 0.5032111061089112),\n",
       "              ('closeness_centralization', 0.5804047638487504),\n",
       "              ('betweenness_centralization', 0.062130471219585204),\n",
       "              ('pagerank_centralization', 0.5629737457228682),\n",
       "              ('density', 0.004972214097689335),\n",
       "              ('degree_assortativity', nan),\n",
       "              ('reciprocity', 0.7847695001976258),\n",
       "              ('transitivity', 0.23406211884097416)]),\n",
       " OrderedDict([('degree_centrality', 0.00015171335941685263),\n",
       "              ('closeness_centrality', 8.6120491909279025e-05),\n",
       "              ('betweenness_centrality', 1.4275334770461814e-05),\n",
       "              ('pagerank', 2.518192149969763e-07),\n",
       "              ('average_shortest_path_length', 0.06599960889120657),\n",
       "              ('diameter', 0.25),\n",
       "              ('degree_centralization', 0.5404808029545868),\n",
       "              ('closeness_centralization', 0.5023734041286531),\n",
       "              ('betweenness_centralization', 0.005960546958389648),\n",
       "              ('pagerank_centralization', 0.5544257170682089),\n",
       "              ('density', 0.004972214097689335),\n",
       "              ('degree_assortativity', nan),\n",
       "              ('reciprocity', 0.7830053157730162),\n",
       "              ('transitivity', 0.21509377615728825)]),\n",
       " OrderedDict([('degree_centrality', 0.00026291363523941585),\n",
       "              ('closeness_centrality', 0.0020122867425347471),\n",
       "              ('betweenness_centrality', 4.8090704592291638e-05),\n",
       "              ('pagerank', 7.5885154889784684e-06),\n",
       "              ('average_shortest_path_length', 0.062153705755817766),\n",
       "              ('diameter', 0.25),\n",
       "              ('degree_centralization', 0.5412938646028741),\n",
       "              ('closeness_centralization', 0.5888231000122256),\n",
       "              ('betweenness_centralization', 0.048226076768820056),\n",
       "              ('pagerank_centralization', 0.5669209824051956),\n",
       "              ('density', 0.004972214097689335),\n",
       "              ('degree_assortativity', nan),\n",
       "              ('reciprocity', 0.7841814387227559),\n",
       "              ('transitivity', 0.21932641062201955)]),\n",
       " OrderedDict([('degree_centrality', 0.00075163598658834342),\n",
       "              ('closeness_centrality', 0.00075163598658834602),\n",
       "              ('betweenness_centrality', 8.6120491909279025e-05),\n",
       "              ('pagerank', 3.9682526029093894e-06),\n",
       "              ('average_shortest_path_length', 0.06362036373117792),\n",
       "              ('diameter', 0.25),\n",
       "              ('degree_centralization', 0.5561999948214696),\n",
       "              ('closeness_centralization', 0.5738851782334573),\n",
       "              ('betweenness_centralization', 0.006368590450239085),\n",
       "              ('pagerank_centralization', 0.5738633112741214),\n",
       "              ('density', 0.004972214097689335),\n",
       "              ('degree_assortativity', nan),\n",
       "              ('reciprocity', 0.7853575616724957),\n",
       "              ('transitivity', 0.22386746306750055)])]"
      ]
     },
     "execution_count": 5,
     "metadata": {},
     "output_type": "execute_result"
    }
   ],
   "source": [
    "comparison_list"
   ]
  }
 ],
 "metadata": {
  "kernelspec": {
   "display_name": "cna",
   "language": "python",
   "name": "cna"
  },
  "language_info": {
   "codemirror_mode": {
    "name": "ipython",
    "version": 3
   },
   "file_extension": ".py",
   "mimetype": "text/x-python",
   "name": "python",
   "nbconvert_exporter": "python",
   "pygments_lexer": "ipython3",
   "version": "3.5.2"
  }
 },
 "nbformat": 4,
 "nbformat_minor": 2
}
